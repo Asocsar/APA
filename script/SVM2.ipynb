{
 "cells": [
  {
   "cell_type": "code",
   "execution_count": 1,
   "outputs": [],
   "source": [
    "import pandas as pd\n",
    "import numpy as np\n",
    "import matplotlib.pyplot as plt\n",
    "import sklearn as sk\n",
    "from sklearn.svm import SVC\n",
    "from sklearn.model_selection import train_test_split, GridSearchCV, cross_val_score\n",
    "from sklearn.preprocessing import MinMaxScaler"
   ],
   "metadata": {
    "collapsed": false,
    "pycharm": {
     "name": "#%%\n"
    }
   }
  },
  {
   "cell_type": "code",
   "execution_count": 2,
   "outputs": [
    {
     "data": {
      "text/plain": "    age  sex  presure_blood_resting  colesterol  cigarettes_per_day  \\\n0  63.0  1.0                  145.0       233.0                50.0   \n1  67.0  1.0                  160.0       286.0                40.0   \n2  67.0  1.0                  120.0       229.0                20.0   \n3  37.0  1.0                  130.0       250.0                 0.0   \n4  41.0  0.0                  130.0       204.0                 0.0   \n\n   smoker_years  sugar  max_heart_rate  res_heart_rate  \\\n0          20.0    1.0           150.0            60.0   \n1          40.0    0.0           108.0            64.0   \n2          35.0    0.0           129.0            78.0   \n3           0.0    0.0           187.0            84.0   \n4           0.0    0.0           172.0            71.0   \n\n   blood_presure_sistoles  ...  major_vessels_1.0  major_vessels_2.0  \\\n0                   190.0  ...                0.0                0.0   \n1                   160.0  ...                0.0                0.0   \n2                   140.0  ...                0.0                1.0   \n3                   195.0  ...                0.0                0.0   \n4                   160.0  ...                0.0                0.0   \n\n   major_vessels_3.0  electrocardio_0.0  electrocardio_1.0  electrocardio_2.0  \\\n0                0.0                0.0                0.0                1.0   \n1                1.0                0.0                0.0                1.0   \n2                0.0                0.0                0.0                1.0   \n3                0.0                1.0                0.0                0.0   \n4                0.0                0.0                0.0                1.0   \n\n   chest_pain_1.0  chest_pain_2.0  chest_pain_3.0  chest_pain_4.0  \n0             1.0             0.0             0.0             0.0  \n1             0.0             0.0             0.0             1.0  \n2             0.0             0.0             0.0             1.0  \n3             0.0             0.0             1.0             0.0  \n4             0.0             1.0             0.0             0.0  \n\n[5 rows x 31 columns]",
      "text/html": "<div>\n<style scoped>\n    .dataframe tbody tr th:only-of-type {\n        vertical-align: middle;\n    }\n\n    .dataframe tbody tr th {\n        vertical-align: top;\n    }\n\n    .dataframe thead th {\n        text-align: right;\n    }\n</style>\n<table border=\"1\" class=\"dataframe\">\n  <thead>\n    <tr style=\"text-align: right;\">\n      <th></th>\n      <th>age</th>\n      <th>sex</th>\n      <th>presure_blood_resting</th>\n      <th>colesterol</th>\n      <th>cigarettes_per_day</th>\n      <th>smoker_years</th>\n      <th>sugar</th>\n      <th>max_heart_rate</th>\n      <th>res_heart_rate</th>\n      <th>blood_presure_sistoles</th>\n      <th>...</th>\n      <th>major_vessels_1.0</th>\n      <th>major_vessels_2.0</th>\n      <th>major_vessels_3.0</th>\n      <th>electrocardio_0.0</th>\n      <th>electrocardio_1.0</th>\n      <th>electrocardio_2.0</th>\n      <th>chest_pain_1.0</th>\n      <th>chest_pain_2.0</th>\n      <th>chest_pain_3.0</th>\n      <th>chest_pain_4.0</th>\n    </tr>\n  </thead>\n  <tbody>\n    <tr>\n      <th>0</th>\n      <td>63.0</td>\n      <td>1.0</td>\n      <td>145.0</td>\n      <td>233.0</td>\n      <td>50.0</td>\n      <td>20.0</td>\n      <td>1.0</td>\n      <td>150.0</td>\n      <td>60.0</td>\n      <td>190.0</td>\n      <td>...</td>\n      <td>0.0</td>\n      <td>0.0</td>\n      <td>0.0</td>\n      <td>0.0</td>\n      <td>0.0</td>\n      <td>1.0</td>\n      <td>1.0</td>\n      <td>0.0</td>\n      <td>0.0</td>\n      <td>0.0</td>\n    </tr>\n    <tr>\n      <th>1</th>\n      <td>67.0</td>\n      <td>1.0</td>\n      <td>160.0</td>\n      <td>286.0</td>\n      <td>40.0</td>\n      <td>40.0</td>\n      <td>0.0</td>\n      <td>108.0</td>\n      <td>64.0</td>\n      <td>160.0</td>\n      <td>...</td>\n      <td>0.0</td>\n      <td>0.0</td>\n      <td>1.0</td>\n      <td>0.0</td>\n      <td>0.0</td>\n      <td>1.0</td>\n      <td>0.0</td>\n      <td>0.0</td>\n      <td>0.0</td>\n      <td>1.0</td>\n    </tr>\n    <tr>\n      <th>2</th>\n      <td>67.0</td>\n      <td>1.0</td>\n      <td>120.0</td>\n      <td>229.0</td>\n      <td>20.0</td>\n      <td>35.0</td>\n      <td>0.0</td>\n      <td>129.0</td>\n      <td>78.0</td>\n      <td>140.0</td>\n      <td>...</td>\n      <td>0.0</td>\n      <td>1.0</td>\n      <td>0.0</td>\n      <td>0.0</td>\n      <td>0.0</td>\n      <td>1.0</td>\n      <td>0.0</td>\n      <td>0.0</td>\n      <td>0.0</td>\n      <td>1.0</td>\n    </tr>\n    <tr>\n      <th>3</th>\n      <td>37.0</td>\n      <td>1.0</td>\n      <td>130.0</td>\n      <td>250.0</td>\n      <td>0.0</td>\n      <td>0.0</td>\n      <td>0.0</td>\n      <td>187.0</td>\n      <td>84.0</td>\n      <td>195.0</td>\n      <td>...</td>\n      <td>0.0</td>\n      <td>0.0</td>\n      <td>0.0</td>\n      <td>1.0</td>\n      <td>0.0</td>\n      <td>0.0</td>\n      <td>0.0</td>\n      <td>0.0</td>\n      <td>1.0</td>\n      <td>0.0</td>\n    </tr>\n    <tr>\n      <th>4</th>\n      <td>41.0</td>\n      <td>0.0</td>\n      <td>130.0</td>\n      <td>204.0</td>\n      <td>0.0</td>\n      <td>0.0</td>\n      <td>0.0</td>\n      <td>172.0</td>\n      <td>71.0</td>\n      <td>160.0</td>\n      <td>...</td>\n      <td>0.0</td>\n      <td>0.0</td>\n      <td>0.0</td>\n      <td>0.0</td>\n      <td>0.0</td>\n      <td>1.0</td>\n      <td>0.0</td>\n      <td>1.0</td>\n      <td>0.0</td>\n      <td>0.0</td>\n    </tr>\n  </tbody>\n</table>\n<p>5 rows × 31 columns</p>\n</div>"
     },
     "execution_count": 2,
     "metadata": {},
     "output_type": "execute_result"
    }
   ],
   "source": [
    "df = pd.read_csv('preprocess.csv')\n",
    "df.head()"
   ],
   "metadata": {
    "collapsed": false,
    "pycharm": {
     "name": "#%%\n"
    }
   }
  },
  {
   "cell_type": "code",
   "execution_count": 3,
   "outputs": [],
   "source": [
    "n = 50\n",
    "random_state = 42\n",
    "\n",
    "X = df.loc[:, df.columns != 'prob']\n",
    "y = df['prob']\n",
    "X_train, X_test, y_train, y_test = train_test_split(X, y, test_size=0.3, random_state=42)\n",
    "scaler = MinMaxScaler(feature_range=(-1, 1)).fit(X_train)\n",
    "\n",
    "# Apply the normalization trained in training data in both training and test sets\n",
    "X_train = scaler.transform(X_train)\n",
    "X_test = scaler.transform(X_test)"
   ],
   "metadata": {
    "collapsed": false,
    "pycharm": {
     "name": "#%%\n"
    }
   }
  },
  {
   "cell_type": "markdown",
   "source": [
    "## Linear"
   ],
   "metadata": {
    "collapsed": false
   }
  },
  {
   "cell_type": "code",
   "execution_count": 4,
   "outputs": [
    {
     "name": "stdout",
     "output_type": "stream",
     "text": [
      "Confusion matrix on test set:\n",
      " [[192   6   5   5   0]\n",
      " [ 29   9  12  12   1]\n",
      " [  4   7   4  12   0]\n",
      " [  4   8   7  16   1]\n",
      " [  0   3   4   6   2]]\n",
      "\n",
      "Accuracy on test set:  0.6389684813753582\n",
      "\n",
      "F1 score on test set:  0.6389684813753582\n"
     ]
    }
   ],
   "source": [
    "#knc = LinearSVC()\n",
    "knc = SVC(kernel='linear')\n",
    "knc.fit(X_train, y_train)\n",
    "pred = knc.predict(X_test)\n",
    "\n",
    "print(\"Confusion matrix on test set:\\n\", sk.metrics.confusion_matrix(y_test, pred))\n",
    "print(\"\\nAccuracy on test set: \", sk.metrics.accuracy_score(y_test, pred))\n",
    "print(\"\\nF1 score on test set: \", sk.metrics.f1_score(y_test, pred, average='micro'))"
   ],
   "metadata": {
    "collapsed": false,
    "pycharm": {
     "name": "#%%\n"
    }
   }
  },
  {
   "cell_type": "code",
   "execution_count": null,
   "outputs": [],
   "source": [
    "# List of C values to test. We usualy test diverse orders of magnitude\n",
    "Cs = np.logspace(-3, 6, num=10, base=10.0)\n",
    "#Cs = np.logspace(-3, 5, num=9, base=10.0)\n",
    "\n",
    "param_grid = {'C': Cs}\n",
    "#grid_search = GridSearchCV(LinearSVC(), param_grid, cv=10)\n",
    "grid_search = GridSearchCV(SVC(kernel='linear'), param_grid, cv=5, n_jobs=-1, scoring='f1_micro')\n",
    "grid_search.fit(X_train, y_train)\n",
    "\n",
    "# Let's plot the 10-fold cross.validation accuracy deppending on C\n",
    "scores = grid_search.cv_results_['mean_test_score']"
   ],
   "metadata": {
    "collapsed": false,
    "pycharm": {
     "name": "#%%\n",
     "is_executing": true
    }
   }
  },
  {
   "cell_type": "code",
   "execution_count": null,
   "outputs": [],
   "source": [
    "plt.semilogx(Cs,scores)\n",
    "plt.ylabel('F1 score')\n",
    "plt.xlabel('C')\n",
    "plt.savefig('../figures/svm_linear_C_cv.pdf')\n",
    "\n",
    "parval=grid_search.best_params_\n",
    "cvacc = cross_val_score(SVC(C=parval['C'],kernel='linear'), X=X_train,  y=y_train, cv=5, scoring='f1_micro', n_jobs=-1)\n",
    "print('F1 score 5-fold cross on train data= ', cvacc.mean())\n",
    "\n",
    "# Let's apply the best C parameter found to the test set"
   ],
   "metadata": {
    "collapsed": false,
    "pycharm": {
     "name": "#%%\n",
     "is_executing": true
    }
   }
  },
  {
   "cell_type": "code",
   "execution_count": null,
   "outputs": [],
   "source": [
    "#knc = LinearSVC(C=parval['C'])\n",
    "svcl = SVC(C=parval['C'], kernel='linear')\n",
    "svcl.fit(X_train, y_train)\n",
    "pred = svcl.predict(X_test)\n",
    "\n",
    "print(\"\\nConfusion matrix on test set:\\n\", sk.metrics.confusion_matrix(y_test, pred))\n",
    "print(\"\\nAccuracy on test set: \", sk.metrics.accuracy_score(y_test, pred))\n",
    "print(\"\\nF1 score on test set: \", sk.metrics.f1_score(y_test, pred, average='micro'))\n",
    "print(\"\\nBest value of parameter C found: \", parval)\n",
    "print(\"\\nNumber of supports: \", np.sum(svcl.n_support_), \"(\",np.sum(np.abs(svcl.dual_coef_)==parval['C']) ,\"of them have slacks)\")\n",
    "print(\"Prop. of supports: \", np.sum(svcl.n_support_)/X_train.shape[0])"
   ],
   "metadata": {
    "collapsed": false,
    "pycharm": {
     "name": "#%%\n",
     "is_executing": true
    }
   }
  },
  {
   "cell_type": "markdown",
   "source": [
    "## Poly"
   ],
   "metadata": {
    "collapsed": false
   }
  },
  {
   "cell_type": "code",
   "execution_count": null,
   "outputs": [],
   "source": [
    "svcp2 = SVC(kernel='poly', degree=2)\n",
    "svcp2.fit(X_train, y_train)\n",
    "\n",
    "pred = svcp2.predict(X_test)\n",
    "print(\"Confusion matrix on test set:\\n\",sk.metrics.confusion_matrix(y_test, pred))\n",
    "print(\"\\nAccuracy on test set: \",sk.metrics.accuracy_score(y_test, pred))"
   ],
   "metadata": {
    "collapsed": false,
    "pycharm": {
     "name": "#%%\n",
     "is_executing": true
    }
   }
  },
  {
   "cell_type": "code",
   "execution_count": null,
   "outputs": [],
   "source": [
    "Cs = np.logspace(-3, 6, num=10, base=10.0)\n",
    "\n",
    "param_grid = {'C': Cs}\n",
    "grid_search = GridSearchCV(SVC(kernel='poly', degree=2) , param_grid, cv=5, n_jobs=-1, scoring='f1_micro')\n",
    "grid_search.fit(X_train, y_train)\n",
    "\n",
    "scores = grid_search.cv_results_['mean_test_score']"
   ],
   "metadata": {
    "collapsed": false,
    "pycharm": {
     "name": "#%%\n",
     "is_executing": true
    }
   }
  },
  {
   "cell_type": "code",
   "execution_count": null,
   "outputs": [],
   "source": [
    "plt.semilogx(Cs,scores)\n",
    "plt.ylabel('F1 score')\n",
    "plt.xlabel('C')\n",
    "plt.savefig('../figures/svm_poly_C_cv.pdf')"
   ],
   "metadata": {
    "collapsed": false,
    "pycharm": {
     "name": "#%%\n",
     "is_executing": true
    }
   }
  },
  {
   "cell_type": "code",
   "execution_count": null,
   "outputs": [],
   "source": [
    "parval = grid_search.best_params_\n",
    "\n",
    "cvacc = cross_val_score(SVC(kernel='poly', degree=2, C=parval['C']) , X=X_train,  y=y_train, cv=5, scoring='f1_micro', n_jobs=-1)\n",
    "print('F1 score 5-fold cross on train data= ', cvacc.mean())\n",
    "\n",
    "svcp2 = SVC(kernel='poly', degree=2, C=parval['C'])\n",
    "svcp2.fit(X_train, y_train)\n",
    "pred = svcp2.predict(X_test)"
   ],
   "metadata": {
    "collapsed": false,
    "pycharm": {
     "name": "#%%\n",
     "is_executing": true
    }
   }
  },
  {
   "cell_type": "code",
   "execution_count": null,
   "outputs": [],
   "source": [
    "print(\"\\nConfusion matrix on test set:\\n\", sk.metrics.confusion_matrix(y_test, pred))\n",
    "print(\"\\nAccuracy on test set: \", sk.metrics.accuracy_score(y_test, pred))\n",
    "print(\"\\nF1 score on test set: \", sk.metrics.f1_score(y_test, pred, average='micro'))\n",
    "print(\"\\nBest combination of parameters found: \",parval)\n",
    "print(\"\\nNumber of supports: \",np.sum(svcp2.n_support_), \"(\",np.sum(np.abs(svcp2.dual_coef_)==parval['C']) ,\"of them have slacks)\")\n",
    "print(\"Prop. of supports: \",np.sum(svcp2.n_support_)/X_train.shape[0])"
   ],
   "metadata": {
    "collapsed": false,
    "pycharm": {
     "name": "#%%\n",
     "is_executing": true
    }
   }
  },
  {
   "cell_type": "markdown",
   "source": [
    "## Poly3"
   ],
   "metadata": {
    "collapsed": false
   }
  },
  {
   "cell_type": "code",
   "execution_count": null,
   "outputs": [],
   "source": [
    "svcp3 = SVC(kernel='poly', degree=3)\n",
    "svcp3.fit(X_train, y_train)\n",
    "pred = svcp3.predict(X_test)\n",
    "\n",
    "print(\"Confusion matrix on test set:\\n\", sk.metrics.confusion_matrix(y_test, pred))\n",
    "print(\"\\nAccuracy on test set: \", sk.metrics.accuracy_score(y_test, pred))"
   ],
   "metadata": {
    "collapsed": false,
    "pycharm": {
     "name": "#%%\n",
     "is_executing": true
    }
   }
  },
  {
   "cell_type": "code",
   "execution_count": null,
   "outputs": [],
   "source": [
    "Cs = np.logspace(-3, 6, num=10, base=10.0)\n",
    "\n",
    "param_grid = {'C': Cs}\n",
    "grid_search = GridSearchCV(SVC(kernel='poly', degree=3) , param_grid, cv=5, n_jobs=-1, scoring='f1_micro')\n",
    "grid_search.fit(X_train,y_train)\n",
    "\n",
    "scores = grid_search.cv_results_['mean_test_score']"
   ],
   "metadata": {
    "collapsed": false,
    "pycharm": {
     "name": "#%%\n",
     "is_executing": true
    }
   }
  },
  {
   "cell_type": "code",
   "execution_count": null,
   "outputs": [],
   "source": [
    "plt.semilogx(Cs, scores)\n",
    "plt.ylabel('F1 score')\n",
    "plt.xlabel('C')\n",
    "plt.savefig('../figures/svm_poly3_C_cv.pdf')"
   ],
   "metadata": {
    "collapsed": false,
    "pycharm": {
     "name": "#%%\n",
     "is_executing": true
    }
   }
  },
  {
   "cell_type": "code",
   "execution_count": null,
   "outputs": [],
   "source": [
    "parval = grid_search.best_params_\n",
    "\n",
    "cvacc = cross_val_score(SVC(kernel='poly', degree=3, C=parval['C']) , X=X_train,  y=y_train, cv=5, scoring='f1_micro', n_jobs=-1)\n",
    "print('F1 score 5-fold cross on train data= ', cvacc.mean())\n",
    "\n",
    "svcp3 = SVC(kernel='poly', degree=3, C=parval['C'])\n",
    "svcp3.fit(X_train, y_train)\n",
    "pred = svcp3.predict(X_test)"
   ],
   "metadata": {
    "collapsed": false,
    "pycharm": {
     "name": "#%%\n",
     "is_executing": true
    }
   }
  },
  {
   "cell_type": "code",
   "execution_count": null,
   "outputs": [],
   "source": [
    "print(\"\\nConfusion matrix on test set:\\n\", sk.metrics.confusion_matrix(y_test, pred))\n",
    "print(\"\\nAccuracy on test set: \", sk.metrics.accuracy_score(y_test, pred))\n",
    "print(\"\\nF1 score on test set: \", sk.metrics.f1_score(y_test, pred, average='micro'))\n",
    "print(\"\\nBest combination of parameters found: \", parval)\n",
    "print(\"\\nNumber of supports: \",np.sum(svcp3.n_support_), \"(\",np.sum(np.abs(svcp3.dual_coef_)==parval['C']) ,\"of them have slacks)\")\n",
    "print(\"Prop. of supports: \",np.sum(svcp3.n_support_)/X_train.shape[0])"
   ],
   "metadata": {
    "collapsed": false,
    "pycharm": {
     "name": "#%%\n",
     "is_executing": true
    }
   }
  },
  {
   "cell_type": "markdown",
   "source": [
    "## RBF Kernel"
   ],
   "metadata": {
    "collapsed": false
   }
  },
  {
   "cell_type": "code",
   "execution_count": null,
   "outputs": [],
   "source": [
    "svcrbf = SVC()\n",
    "svcrbf.fit(X_train, y_train)\n",
    "pred = svcrbf.predict(X_test)\n",
    "print(\"Confusion matrix on test set:\\n\", sk.metrics.confusion_matrix(y_test, pred))\n",
    "print(\"\\nAccuracy on test set: \", sk.metrics.accuracy_score(y_test, pred))"
   ],
   "metadata": {
    "collapsed": false,
    "pycharm": {
     "name": "#%%\n",
     "is_executing": true
    }
   }
  },
  {
   "cell_type": "code",
   "execution_count": null,
   "outputs": [],
   "source": [
    "# Values we will test for each parameter. When observing results, consider the limits of the\n",
    "# values tested and increase them if necessary\n",
    "gammas = [0.000001, 0.00001, 0.0001, 0.001, 0.01, 0.1, 1, 10]\n",
    "Cs = np.logspace(-1, 6, num=8, base=10.0)\n",
    "\n",
    "param_grid = {'C': Cs, 'gamma' : gammas}\n",
    "grid_search = GridSearchCV(SVC(), param_grid, cv=5, n_jobs=-1, scoring='f1_micro')\n",
    "grid_search.fit(X_train,y_train)\n",
    "parval=grid_search.best_params_\n",
    "\n",
    "# We'll show in a grid, the accuracy for each combination of parameters tester\n",
    "scores = grid_search.cv_results_['mean_test_score']\n",
    "scores = np.array(scores).reshape(len(param_grid['C']), len(param_grid['gamma']))"
   ],
   "metadata": {
    "collapsed": false,
    "pycharm": {
     "name": "#%%\n",
     "is_executing": true
    }
   }
  },
  {
   "cell_type": "code",
   "execution_count": null,
   "outputs": [],
   "source": [
    "plt.matshow(scores)\n",
    "plt.xlabel('gamma')\n",
    "plt.ylabel('C')\n",
    "plt.colorbar(label='F1 score')\n",
    "plt.grid(b=None)\n",
    "plt.xticks(np.arange(len(param_grid['gamma'])), param_grid['gamma'], rotation='vertical')\n",
    "plt.yticks(np.arange(len(param_grid['C'])), param_grid['C'])\n",
    "plt.savefig(\"../figures/svm_rbf_C_cv.pdf\")\n",
    "\n",
    "parval = grid_search.best_params_\n",
    "print(\"\\nBest combination of parameters found: \", parval)\n",
    "\n",
    "cvacc = cross_val_score(SVC(C=parval['C'], gamma=parval['gamma']) , X=X_train,  y=y_train, cv=5, scoring='f1_micro', n_jobs=-1)\n",
    "print('\\nF1 score 5-fold cross on train data= ', cvacc.mean())"
   ],
   "metadata": {
    "collapsed": false,
    "pycharm": {
     "name": "#%%\n",
     "is_executing": true
    }
   }
  },
  {
   "cell_type": "code",
   "execution_count": null,
   "outputs": [],
   "source": [
    "svcrbf = SVC(C=parval['C'], gamma=parval['gamma'])\n",
    "svcrbf.fit(X_train, y_train)\n",
    "pred = svcrbf.predict(X_test)\n",
    "\n",
    "print(\"Confusion matrix on test set:\\n\", sk.metrics.confusion_matrix(y_test, pred))\n",
    "print(\"\\nAccuracy on test set: \", sk.metrics.accuracy_score(y_test, pred))\n",
    "print(\"\\nF1 score on test set: \", sk.metrics.f1_score(y_test, pred, average='micro'))\n",
    "print(\"\\nNumber of supports: \",np.sum(svcrbf.n_support_), \"(\",np.sum(np.abs(svcrbf.dual_coef_)==parval['C']) ,\"of them have slacks)\")\n",
    "print(\"Prop. of supports: \",np.sum(svcrbf.n_support_)/X_train.shape[0])"
   ],
   "metadata": {
    "collapsed": false,
    "pycharm": {
     "name": "#%%\n",
     "is_executing": true
    }
   }
  }
 ],
 "metadata": {
  "kernelspec": {
   "display_name": "Python 3",
   "language": "python",
   "name": "python3"
  },
  "language_info": {
   "codemirror_mode": {
    "name": "ipython",
    "version": 2
   },
   "file_extension": ".py",
   "mimetype": "text/x-python",
   "name": "python",
   "nbconvert_exporter": "python",
   "pygments_lexer": "ipython2",
   "version": "2.7.6"
  }
 },
 "nbformat": 4,
 "nbformat_minor": 0
}