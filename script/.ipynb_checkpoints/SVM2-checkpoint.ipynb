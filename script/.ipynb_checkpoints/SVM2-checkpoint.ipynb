{
 "cells": [
  {
   "cell_type": "code",
   "execution_count": 1,
   "metadata": {
    "pycharm": {
     "name": "#%%\n"
    }
   },
   "outputs": [],
   "source": [
    "import pandas as pd\n",
    "import numpy as np\n",
    "import matplotlib.pyplot as plt\n",
    "import sklearn as sk\n",
    "from sklearn.svm import SVC\n",
    "from sklearn.model_selection import train_test_split, GridSearchCV, cross_val_score\n",
    "from sklearn.preprocessing import MinMaxScaler"
   ]
  },
  {
   "cell_type": "code",
   "execution_count": 2,
   "metadata": {
    "pycharm": {
     "name": "#%%\n"
    }
   },
   "outputs": [
    {
     "data": {
      "text/html": [
       "<div>\n",
       "<style scoped>\n",
       "    .dataframe tbody tr th:only-of-type {\n",
       "        vertical-align: middle;\n",
       "    }\n",
       "\n",
       "    .dataframe tbody tr th {\n",
       "        vertical-align: top;\n",
       "    }\n",
       "\n",
       "    .dataframe thead th {\n",
       "        text-align: right;\n",
       "    }\n",
       "</style>\n",
       "<table border=\"1\" class=\"dataframe\">\n",
       "  <thead>\n",
       "    <tr style=\"text-align: right;\">\n",
       "      <th></th>\n",
       "      <th>age</th>\n",
       "      <th>sex</th>\n",
       "      <th>presure_blood_resting</th>\n",
       "      <th>colesterol</th>\n",
       "      <th>cigarettes_per_day</th>\n",
       "      <th>smoker_years</th>\n",
       "      <th>sugar</th>\n",
       "      <th>max_heart_rate</th>\n",
       "      <th>res_heart_rate</th>\n",
       "      <th>blood_presure_sistoles</th>\n",
       "      <th>...</th>\n",
       "      <th>major_vessels_1.0</th>\n",
       "      <th>major_vessels_2.0</th>\n",
       "      <th>major_vessels_3.0</th>\n",
       "      <th>electrocardio_0.0</th>\n",
       "      <th>electrocardio_1.0</th>\n",
       "      <th>electrocardio_2.0</th>\n",
       "      <th>chest_pain_1.0</th>\n",
       "      <th>chest_pain_2.0</th>\n",
       "      <th>chest_pain_3.0</th>\n",
       "      <th>chest_pain_4.0</th>\n",
       "    </tr>\n",
       "  </thead>\n",
       "  <tbody>\n",
       "    <tr>\n",
       "      <th>0</th>\n",
       "      <td>63.0</td>\n",
       "      <td>1.0</td>\n",
       "      <td>145.0</td>\n",
       "      <td>233.0</td>\n",
       "      <td>50.0</td>\n",
       "      <td>20.0</td>\n",
       "      <td>1.0</td>\n",
       "      <td>150.0</td>\n",
       "      <td>60.0</td>\n",
       "      <td>190.0</td>\n",
       "      <td>...</td>\n",
       "      <td>0.0</td>\n",
       "      <td>0.0</td>\n",
       "      <td>0.0</td>\n",
       "      <td>0.0</td>\n",
       "      <td>0.0</td>\n",
       "      <td>1.0</td>\n",
       "      <td>1.0</td>\n",
       "      <td>0.0</td>\n",
       "      <td>0.0</td>\n",
       "      <td>0.0</td>\n",
       "    </tr>\n",
       "    <tr>\n",
       "      <th>1</th>\n",
       "      <td>67.0</td>\n",
       "      <td>1.0</td>\n",
       "      <td>160.0</td>\n",
       "      <td>286.0</td>\n",
       "      <td>40.0</td>\n",
       "      <td>40.0</td>\n",
       "      <td>0.0</td>\n",
       "      <td>108.0</td>\n",
       "      <td>64.0</td>\n",
       "      <td>160.0</td>\n",
       "      <td>...</td>\n",
       "      <td>0.0</td>\n",
       "      <td>0.0</td>\n",
       "      <td>1.0</td>\n",
       "      <td>0.0</td>\n",
       "      <td>0.0</td>\n",
       "      <td>1.0</td>\n",
       "      <td>0.0</td>\n",
       "      <td>0.0</td>\n",
       "      <td>0.0</td>\n",
       "      <td>1.0</td>\n",
       "    </tr>\n",
       "    <tr>\n",
       "      <th>2</th>\n",
       "      <td>67.0</td>\n",
       "      <td>1.0</td>\n",
       "      <td>120.0</td>\n",
       "      <td>229.0</td>\n",
       "      <td>20.0</td>\n",
       "      <td>35.0</td>\n",
       "      <td>0.0</td>\n",
       "      <td>129.0</td>\n",
       "      <td>78.0</td>\n",
       "      <td>140.0</td>\n",
       "      <td>...</td>\n",
       "      <td>0.0</td>\n",
       "      <td>1.0</td>\n",
       "      <td>0.0</td>\n",
       "      <td>0.0</td>\n",
       "      <td>0.0</td>\n",
       "      <td>1.0</td>\n",
       "      <td>0.0</td>\n",
       "      <td>0.0</td>\n",
       "      <td>0.0</td>\n",
       "      <td>1.0</td>\n",
       "    </tr>\n",
       "    <tr>\n",
       "      <th>3</th>\n",
       "      <td>37.0</td>\n",
       "      <td>1.0</td>\n",
       "      <td>130.0</td>\n",
       "      <td>250.0</td>\n",
       "      <td>0.0</td>\n",
       "      <td>0.0</td>\n",
       "      <td>0.0</td>\n",
       "      <td>187.0</td>\n",
       "      <td>84.0</td>\n",
       "      <td>195.0</td>\n",
       "      <td>...</td>\n",
       "      <td>0.0</td>\n",
       "      <td>0.0</td>\n",
       "      <td>0.0</td>\n",
       "      <td>1.0</td>\n",
       "      <td>0.0</td>\n",
       "      <td>0.0</td>\n",
       "      <td>0.0</td>\n",
       "      <td>0.0</td>\n",
       "      <td>1.0</td>\n",
       "      <td>0.0</td>\n",
       "    </tr>\n",
       "    <tr>\n",
       "      <th>4</th>\n",
       "      <td>41.0</td>\n",
       "      <td>0.0</td>\n",
       "      <td>130.0</td>\n",
       "      <td>204.0</td>\n",
       "      <td>0.0</td>\n",
       "      <td>0.0</td>\n",
       "      <td>0.0</td>\n",
       "      <td>172.0</td>\n",
       "      <td>71.0</td>\n",
       "      <td>160.0</td>\n",
       "      <td>...</td>\n",
       "      <td>0.0</td>\n",
       "      <td>0.0</td>\n",
       "      <td>0.0</td>\n",
       "      <td>0.0</td>\n",
       "      <td>0.0</td>\n",
       "      <td>1.0</td>\n",
       "      <td>0.0</td>\n",
       "      <td>1.0</td>\n",
       "      <td>0.0</td>\n",
       "      <td>0.0</td>\n",
       "    </tr>\n",
       "  </tbody>\n",
       "</table>\n",
       "<p>5 rows × 31 columns</p>\n",
       "</div>"
      ],
      "text/plain": [
       "    age  sex  presure_blood_resting  colesterol  cigarettes_per_day  \\\n",
       "0  63.0  1.0                  145.0       233.0                50.0   \n",
       "1  67.0  1.0                  160.0       286.0                40.0   \n",
       "2  67.0  1.0                  120.0       229.0                20.0   \n",
       "3  37.0  1.0                  130.0       250.0                 0.0   \n",
       "4  41.0  0.0                  130.0       204.0                 0.0   \n",
       "\n",
       "   smoker_years  sugar  max_heart_rate  res_heart_rate  \\\n",
       "0          20.0    1.0           150.0            60.0   \n",
       "1          40.0    0.0           108.0            64.0   \n",
       "2          35.0    0.0           129.0            78.0   \n",
       "3           0.0    0.0           187.0            84.0   \n",
       "4           0.0    0.0           172.0            71.0   \n",
       "\n",
       "   blood_presure_sistoles  ...  major_vessels_1.0  major_vessels_2.0  \\\n",
       "0                   190.0  ...                0.0                0.0   \n",
       "1                   160.0  ...                0.0                0.0   \n",
       "2                   140.0  ...                0.0                1.0   \n",
       "3                   195.0  ...                0.0                0.0   \n",
       "4                   160.0  ...                0.0                0.0   \n",
       "\n",
       "   major_vessels_3.0  electrocardio_0.0  electrocardio_1.0  electrocardio_2.0  \\\n",
       "0                0.0                0.0                0.0                1.0   \n",
       "1                1.0                0.0                0.0                1.0   \n",
       "2                0.0                0.0                0.0                1.0   \n",
       "3                0.0                1.0                0.0                0.0   \n",
       "4                0.0                0.0                0.0                1.0   \n",
       "\n",
       "   chest_pain_1.0  chest_pain_2.0  chest_pain_3.0  chest_pain_4.0  \n",
       "0             1.0             0.0             0.0             0.0  \n",
       "1             0.0             0.0             0.0             1.0  \n",
       "2             0.0             0.0             0.0             1.0  \n",
       "3             0.0             0.0             1.0             0.0  \n",
       "4             0.0             1.0             0.0             0.0  \n",
       "\n",
       "[5 rows x 31 columns]"
      ]
     },
     "execution_count": 2,
     "metadata": {},
     "output_type": "execute_result"
    }
   ],
   "source": [
    "df = pd.read_csv('preprocess.csv')\n",
    "df.head()"
   ]
  },
  {
   "cell_type": "code",
   "execution_count": 3,
   "metadata": {
    "pycharm": {
     "name": "#%%\n"
    }
   },
   "outputs": [],
   "source": [
    "n = 50\n",
    "random_state = 42\n",
    "\n",
    "X = df.loc[:, df.columns != 'prob']\n",
    "y = df['prob']\n",
    "X_train, X_test, y_train, y_test = train_test_split(X, y, test_size=0.3, random_state=42)\n",
    "scaler = MinMaxScaler(feature_range=(-1, 1)).fit(X_train)\n",
    "\n",
    "# Apply the normalization trained in training data in both training and test sets\n",
    "X_train = scaler.transform(X_train)\n",
    "X_test = scaler.transform(X_test)"
   ]
  },
  {
   "cell_type": "markdown",
   "metadata": {},
   "source": [
    "## Linear"
   ]
  },
  {
   "cell_type": "code",
   "execution_count": 4,
   "metadata": {
    "pycharm": {
     "name": "#%%\n"
    }
   },
   "outputs": [
    {
     "name": "stdout",
     "output_type": "stream",
     "text": [
      "Confusion matrix on test set:\n",
      " [[192   6   5   5   0]\n",
      " [ 29   9  12  12   1]\n",
      " [  4   7   4  12   0]\n",
      " [  4   8   7  16   1]\n",
      " [  0   3   4   6   2]]\n",
      "\n",
      "Accuracy on test set:  0.6389684813753582\n",
      "\n",
      "F1 score on test set:  0.6389684813753582\n"
     ]
    }
   ],
   "source": [
    "#knc = LinearSVC()\n",
    "knc = SVC(kernel='linear')\n",
    "knc.fit(X_train, y_train)\n",
    "pred = knc.predict(X_test)\n",
    "\n",
    "print(\"Confusion matrix on test set:\\n\", sk.metrics.confusion_matrix(y_test, pred))\n",
    "print(\"\\nAccuracy on test set: \", sk.metrics.accuracy_score(y_test, pred))\n",
    "print(\"\\nF1 score on test set: \", sk.metrics.f1_score(y_test, pred, average='micro'))"
   ]
  },
  {
   "cell_type": "code",
   "execution_count": 5,
   "metadata": {
    "pycharm": {
     "is_executing": true,
     "name": "#%%\n"
    }
   },
   "outputs": [
    {
     "name": "stdout",
     "output_type": "stream",
     "text": [
      "Fitting 5 folds for each of 10 candidates, totalling 50 fits\n"
     ]
    },
    {
     "name": "stderr",
     "output_type": "stream",
     "text": [
      "[Parallel(n_jobs=-1)]: Using backend LokyBackend with 16 concurrent workers.\n",
      "[Parallel(n_jobs=-1)]: Done   9 tasks      | elapsed:    1.5s\n",
      "[Parallel(n_jobs=-1)]: Done  18 tasks      | elapsed:    1.5s\n",
      "[Parallel(n_jobs=-1)]: Done  25 out of  50 | elapsed:    1.8s remaining:    1.8s\n",
      "[Parallel(n_jobs=-1)]: Done  31 out of  50 | elapsed:   14.8s remaining:    9.0s\n",
      "[Parallel(n_jobs=-1)]: Done  37 out of  50 | elapsed:  3.0min remaining:  1.1min\n",
      "[Parallel(n_jobs=-1)]: Done  43 out of  50 | elapsed: 19.8min remaining:  3.2min\n",
      "[Parallel(n_jobs=-1)]: Done  50 out of  50 | elapsed: 92.9min finished\n"
     ]
    }
   ],
   "source": [
    "# List of C values to test. We usualy test diverse orders of magnitude\n",
    "Cs = np.logspace(-3, 6, num=10, base=10.0)\n",
    "#Cs = np.logspace(-3, 5, num=9, base=10.0)\n",
    "\n",
    "param_grid = {'C': Cs}\n",
    "#grid_search = GridSearchCV(LinearSVC(), param_grid, cv=10)\n",
    "grid_search = GridSearchCV(SVC(kernel='linear'), param_grid, cv=5, n_jobs=-1, scoring='f1_micro', verbose=10)\n",
    "grid_search.fit(X_train, y_train)\n",
    "\n",
    "# Let's plot the 10-fold cross.validation accuracy deppending on C\n",
    "scores = grid_search.cv_results_['mean_test_score']"
   ]
  },
  {
   "cell_type": "code",
   "execution_count": 6,
   "metadata": {
    "pycharm": {
     "is_executing": true,
     "name": "#%%\n"
    }
   },
   "outputs": [
    {
     "name": "stderr",
     "output_type": "stream",
     "text": [
      "[Parallel(n_jobs=-1)]: Using backend LokyBackend with 16 concurrent workers.\n",
      "[Parallel(n_jobs=-1)]: Done   1 tasks      | elapsed:    0.0s\n",
      "[Parallel(n_jobs=-1)]: Batch computation too fast (0.0960s.) Setting batch_size=2.\n",
      "[Parallel(n_jobs=-1)]: Done   3 out of   5 | elapsed:    0.0s remaining:    0.0s\n",
      "[Parallel(n_jobs=-1)]: Done   5 out of   5 | elapsed:    0.1s remaining:    0.0s\n",
      "[Parallel(n_jobs=-1)]: Done   5 out of   5 | elapsed:    0.1s finished\n"
     ]
    },
    {
     "name": "stdout",
     "output_type": "stream",
     "text": [
      "F1 score 5-fold cross on train data=  0.6704461107324093\n"
     ]
    },
    {
     "data": {
      "image/png": "[encoded data removed]",
      "text/plain": [
       "<Figure size 432x288 with 1 Axes>"
      ]
     },
     "metadata": {
      "needs_background": "light"
     },
     "output_type": "display_data"
    }
   ],
   "source": [
    "plt.semilogx(Cs,scores)\n",
    "plt.ylabel('F1 score')\n",
    "plt.xlabel('C')\n",
    "plt.savefig('../figures/svm_linear_C_cv.pdf')\n",
    "\n",
    "parval=grid_search.best_params_\n",
    "cvacc = cross_val_score(SVC(C=parval['C'],kernel='linear'), X=X_train,  y=y_train, cv=5, scoring='f1_micro', n_jobs=-1, verbose=10)\n",
    "print('F1 score 5-fold cross on train data= ', cvacc.mean())\n",
    "\n",
    "# Let's apply the best C parameter found to the test set"
   ]
  },
  {
   "cell_type": "code",
   "execution_count": 7,
   "metadata": {
    "pycharm": {
     "is_executing": true,
     "name": "#%%\n"
    }
   },
   "outputs": [
    {
     "name": "stdout",
     "output_type": "stream",
     "text": [
      "\n",
      "Confusion matrix on test set:\n",
      " [[196   6   5   1   0]\n",
      " [ 33   8  11  11   0]\n",
      " [  7   8   3   9   0]\n",
      " [  5  12   7  12   0]\n",
      " [  0   4   2   9   0]]\n",
      "\n",
      "Accuracy on test set:  0.6275071633237822\n",
      "\n",
      "F1 score on test set:  0.6275071633237822\n",
      "\n",
      "Best value of parameter C found:  {'C': 0.1}\n",
      "\n",
      "Number of supports:  438 ( 925 of them have slacks)\n",
      "Prop. of supports:  0.5387453874538746\n"
     ]
    }
   ],
   "source": [
    "#knc = LinearSVC(C=parval['C'])\n",
    "svcl = SVC(C=parval['C'], kernel='linear')\n",
    "svcl.fit(X_train, y_train)\n",
    "pred = svcl.predict(X_test)\n",
    "\n",
    "print(\"\\nConfusion matrix on test set:\\n\", sk.metrics.confusion_matrix(y_test, pred))\n",
    "print(\"\\nAccuracy on test set: \", sk.metrics.accuracy_score(y_test, pred))\n",
    "print(\"\\nF1 score on test set: \", sk.metrics.f1_score(y_test, pred, average='micro'))\n",
    "print(\"\\nBest value of parameter C found: \", parval)\n",
    "print(\"\\nNumber of supports: \", np.sum(svcl.n_support_), \"(\",np.sum(np.abs(svcl.dual_coef_)==parval['C']) ,\"of them have slacks)\")\n",
    "print(\"Prop. of supports: \", np.sum(svcl.n_support_)/X_train.shape[0])"
   ]
  },
  {
   "cell_type": "markdown",
   "metadata": {},
   "source": [
    "## Poly"
   ]
  },
  {
   "cell_type": "code",
   "execution_count": 8,
   "metadata": {
    "pycharm": {
     "is_executing": true,
     "name": "#%%\n"
    }
   },
   "outputs": [
    {
     "name": "stdout",
     "output_type": "stream",
     "text": [
      "Confusion matrix on test set:\n",
      " [[197   6   4   1   0]\n",
      " [ 26  15  13   9   0]\n",
      " [  7   9   4   7   0]\n",
      " [  4  11   5  15   1]\n",
      " [  1   4   3   4   3]]\n",
      "\n",
      "Accuracy on test set:  0.670487106017192\n"
     ]
    }
   ],
   "source": [
    "svcp2 = SVC(kernel='poly', degree=2)\n",
    "svcp2.fit(X_train, y_train)\n",
    "\n",
    "pred = svcp2.predict(X_test)\n",
    "print(\"Confusion matrix on test set:\\n\",sk.metrics.confusion_matrix(y_test, pred))\n",
    "print(\"\\nAccuracy on test set: \",sk.metrics.accuracy_score(y_test, pred))"
   ]
  },
  {
   "cell_type": "code",
   "execution_count": 9,
   "metadata": {
    "pycharm": {
     "is_executing": true,
     "name": "#%%\n"
    }
   },
   "outputs": [
    {
     "name": "stdout",
     "output_type": "stream",
     "text": [
      "Fitting 5 folds for each of 10 candidates, totalling 50 fits\n"
     ]
    },
    {
     "name": "stderr",
     "output_type": "stream",
     "text": [
      "[Parallel(n_jobs=-1)]: Using backend LokyBackend with 16 concurrent workers.\n",
      "[Parallel(n_jobs=-1)]: Batch computation too fast (0.0205s.) Setting batch_size=2.\n",
      "[Parallel(n_jobs=-1)]: Done   9 tasks      | elapsed:    0.1s\n",
      "[Parallel(n_jobs=-1)]: Done  18 tasks      | elapsed:    0.4s\n",
      "[Parallel(n_jobs=-1)]: Done  25 out of  50 | elapsed:    0.6s remaining:    0.6s\n",
      "[Parallel(n_jobs=-1)]: Done  31 out of  50 | elapsed:    0.8s remaining:    0.5s\n",
      "[Parallel(n_jobs=-1)]: Done  37 out of  50 | elapsed:    1.0s remaining:    0.3s\n",
      "[Parallel(n_jobs=-1)]: Done  43 out of  50 | elapsed:    1.1s remaining:    0.1s\n",
      "[Parallel(n_jobs=-1)]: Done  50 out of  50 | elapsed:    1.1s finished\n"
     ]
    }
   ],
   "source": [
    "Cs = np.logspace(-3, 6, num=10, base=10.0)\n",
    "\n",
    "param_grid = {'C': Cs}\n",
    "grid_search = GridSearchCV(SVC(kernel='poly', degree=2) , param_grid, cv=5, n_jobs=-1, scoring='f1_micro', verbose=10)\n",
    "grid_search.fit(X_train, y_train)\n",
    "\n",
    "scores = grid_search.cv_results_['mean_test_score']"
   ]
  },
  {
   "cell_type": "code",
   "execution_count": 10,
   "metadata": {
    "pycharm": {
     "is_executing": true,
     "name": "#%%\n"
    }
   },
   "outputs": [
    {
     "data": {
      "image/png": "[encoded data removed]",
      "text/plain": [
       "<Figure size 432x288 with 1 Axes>"
      ]
     },
     "metadata": {
      "needs_background": "light"
     },
     "output_type": "display_data"
    }
   ],
   "source": [
    "plt.semilogx(Cs,scores)\n",
    "plt.ylabel('F1 score')\n",
    "plt.xlabel('C')\n",
    "plt.savefig('../figures/svm_poly_C_cv.pdf')"
   ]
  },
  {
   "cell_type": "code",
   "execution_count": 11,
   "metadata": {
    "pycharm": {
     "is_executing": true,
     "name": "#%%\n"
    }
   },
   "outputs": [
    {
     "name": "stdout",
     "output_type": "stream",
     "text": [
      "F1 score 5-fold cross on train data=  0.7171703400742254\n"
     ]
    }
   ],
   "source": [
    "parval = grid_search.best_params_\n",
    "\n",
    "cvacc = cross_val_score(SVC(kernel='poly', degree=2, C=parval['C']) , X=X_train,  y=y_train, cv=5, scoring='f1_micro', n_jobs=-1)\n",
    "print('F1 score 5-fold cross on train data= ', cvacc.mean())\n",
    "\n",
    "svcp2 = SVC(kernel='poly', degree=2, C=parval['C'])\n",
    "svcp2.fit(X_train, y_train)\n",
    "pred = svcp2.predict(X_test)"
   ]
  },
  {
   "cell_type": "code",
   "execution_count": 12,
   "metadata": {
    "pycharm": {
     "is_executing": true,
     "name": "#%%\n"
    }
   },
   "outputs": [
    {
     "name": "stdout",
     "output_type": "stream",
     "text": [
      "\n",
      "Confusion matrix on test set:\n",
      " [[186  13   3   5   1]\n",
      " [ 24  30   3   6   0]\n",
      " [  3   9   7   8   0]\n",
      " [  3   6   3  22   2]\n",
      " [  0   3   4   4   4]]\n",
      "\n",
      "Accuracy on test set:  0.7134670487106017\n",
      "\n",
      "F1 score on test set:  0.7134670487106017\n",
      "\n",
      "Best combination of parameters found:  {'C': 10.0}\n",
      "\n",
      "Number of supports:  454 ( 242 of them have slacks)\n",
      "Prop. of supports:  0.5584255842558425\n"
     ]
    }
   ],
   "source": [
    "print(\"\\nConfusion matrix on test set:\\n\", sk.metrics.confusion_matrix(y_test, pred))\n",
    "print(\"\\nAccuracy on test set: \", sk.metrics.accuracy_score(y_test, pred))\n",
    "print(\"\\nF1 score on test set: \", sk.metrics.f1_score(y_test, pred, average='micro'))\n",
    "print(\"\\nBest combination of parameters found: \",parval)\n",
    "print(\"\\nNumber of supports: \",np.sum(svcp2.n_support_), \"(\",np.sum(np.abs(svcp2.dual_coef_)==parval['C']) ,\"of them have slacks)\")\n",
    "print(\"Prop. of supports: \",np.sum(svcp2.n_support_)/X_train.shape[0])"
   ]
  },
  {
   "cell_type": "markdown",
   "metadata": {},
   "source": [
    "## Poly3"
   ]
  },
  {
   "cell_type": "code",
   "execution_count": 13,
   "metadata": {
    "pycharm": {
     "is_executing": true,
     "name": "#%%\n"
    }
   },
   "outputs": [
    {
     "name": "stdout",
     "output_type": "stream",
     "text": [
      "Confusion matrix on test set:\n",
      " [[194   9   4   1   0]\n",
      " [ 27  17  10   9   0]\n",
      " [  4  10   6   7   0]\n",
      " [  5   7   4  17   3]\n",
      " [  1   2   5   3   4]]\n",
      "\n",
      "Accuracy on test set:  0.6819484240687679\n"
     ]
    }
   ],
   "source": [
    "svcp3 = SVC(kernel='poly', degree=3)\n",
    "svcp3.fit(X_train, y_train)\n",
    "pred = svcp3.predict(X_test)\n",
    "\n",
    "print(\"Confusion matrix on test set:\\n\", sk.metrics.confusion_matrix(y_test, pred))\n",
    "print(\"\\nAccuracy on test set: \", sk.metrics.accuracy_score(y_test, pred))"
   ]
  },
  {
   "cell_type": "code",
   "execution_count": 14,
   "metadata": {
    "pycharm": {
     "is_executing": true,
     "name": "#%%\n"
    }
   },
   "outputs": [
    {
     "name": "stdout",
     "output_type": "stream",
     "text": [
      "Fitting 5 folds for each of 10 candidates, totalling 50 fits\n"
     ]
    },
    {
     "name": "stderr",
     "output_type": "stream",
     "text": [
      "[Parallel(n_jobs=-1)]: Using backend LokyBackend with 16 concurrent workers.\n",
      "[Parallel(n_jobs=-1)]: Batch computation too fast (0.0215s.) Setting batch_size=2.\n",
      "[Parallel(n_jobs=-1)]: Done   9 tasks      | elapsed:    0.0s\n",
      "[Parallel(n_jobs=-1)]: Done  18 tasks      | elapsed:    0.0s\n",
      "[Parallel(n_jobs=-1)]: Done  25 out of  50 | elapsed:    0.0s remaining:    0.0s\n",
      "[Parallel(n_jobs=-1)]: Done  31 out of  50 | elapsed:    0.0s remaining:    0.0s\n",
      "[Parallel(n_jobs=-1)]: Done  37 out of  50 | elapsed:    0.0s remaining:    0.0s\n",
      "[Parallel(n_jobs=-1)]: Done  43 out of  50 | elapsed:    0.0s remaining:    0.0s\n",
      "[Parallel(n_jobs=-1)]: Done  50 out of  50 | elapsed:    0.0s finished\n"
     ]
    }
   ],
   "source": [
    "Cs = np.logspace(-3, 6, num=10, base=10.0)\n",
    "\n",
    "param_grid = {'C': Cs}\n",
    "grid_search = GridSearchCV(SVC(kernel='poly', degree=3) , param_grid, cv=5, n_jobs=-1, scoring='f1_micro', verbose=10)\n",
    "grid_search.fit(X_train,y_train)\n",
    "\n",
    "scores = grid_search.cv_results_['mean_test_score']"
   ]
  },
  {
   "cell_type": "code",
   "execution_count": 15,
   "metadata": {
    "pycharm": {
     "is_executing": true,
     "name": "#%%\n"
    }
   },
   "outputs": [
    {
     "data": {
      "image/png": "[encoded data removed]",
      "text/plain": [
       "<Figure size 432x288 with 1 Axes>"
      ]
     },
     "metadata": {
      "needs_background": "light"
     },
     "output_type": "display_data"
    }
   ],
   "source": [
    "plt.semilogx(Cs, scores)\n",
    "plt.ylabel('F1 score')\n",
    "plt.xlabel('C')\n",
    "plt.savefig('../figures/svm_poly3_C_cv.pdf')"
   ]
  },
  {
   "cell_type": "code",
   "execution_count": 16,
   "metadata": {
    "pycharm": {
     "is_executing": true,
     "name": "#%%\n"
    }
   },
   "outputs": [
    {
     "name": "stdout",
     "output_type": "stream",
     "text": [
      "F1 score 5-fold cross on train data=  0.7270165871392864\n"
     ]
    }
   ],
   "source": [
    "parval = grid_search.best_params_\n",
    "\n",
    "cvacc = cross_val_score(SVC(kernel='poly', degree=3, C=parval['C']) , X=X_train,  y=y_train, cv=5, scoring='f1_micro', n_jobs=-1)\n",
    "print('F1 score 5-fold cross on train data= ', cvacc.mean())\n",
    "\n",
    "svcp3 = SVC(kernel='poly', degree=3, C=parval['C'])\n",
    "svcp3.fit(X_train, y_train)\n",
    "pred = svcp3.predict(X_test)"
   ]
  },
  {
   "cell_type": "code",
   "execution_count": 17,
   "metadata": {
    "pycharm": {
     "is_executing": true,
     "name": "#%%\n"
    }
   },
   "outputs": [
    {
     "name": "stdout",
     "output_type": "stream",
     "text": [
      "\n",
      "Confusion matrix on test set:\n",
      " [[187   9   4   7   1]\n",
      " [ 28  28   4   3   0]\n",
      " [  4   5   9   8   1]\n",
      " [  6   4   5  20   1]\n",
      " [  2   0   4   3   6]]\n",
      "\n",
      "Accuracy on test set:  0.7163323782234957\n",
      "\n",
      "F1 score on test set:  0.7163323782234956\n",
      "\n",
      "Best combination of parameters found:  {'C': 100.0}\n",
      "\n",
      "Number of supports:  443 ( 18 of them have slacks)\n",
      "Prop. of supports:  0.5448954489544895\n"
     ]
    }
   ],
   "source": [
    "print(\"\\nConfusion matrix on test set:\\n\", sk.metrics.confusion_matrix(y_test, pred))\n",
    "print(\"\\nAccuracy on test set: \", sk.metrics.accuracy_score(y_test, pred))\n",
    "print(\"\\nF1 score on test set: \", sk.metrics.f1_score(y_test, pred, average='micro'))\n",
    "print(\"\\nBest combination of parameters found: \", parval)\n",
    "print(\"\\nNumber of supports: \",np.sum(svcp3.n_support_), \"(\",np.sum(np.abs(svcp3.dual_coef_)==parval['C']) ,\"of them have slacks)\")\n",
    "print(\"Prop. of supports: \",np.sum(svcp3.n_support_)/X_train.shape[0])"
   ]
  },
  {
   "cell_type": "markdown",
   "metadata": {},
   "source": [
    "## RBF Kernel"
   ]
  },
  {
   "cell_type": "code",
   "execution_count": 18,
   "metadata": {
    "pycharm": {
     "is_executing": true,
     "name": "#%%\n"
    }
   },
   "outputs": [
    {
     "name": "stdout",
     "output_type": "stream",
     "text": [
      "Confusion matrix on test set:\n",
      " [[200   5   3   0   0]\n",
      " [ 28  12  12  11   0]\n",
      " [  7   8   4   8   0]\n",
      " [  8   8   6  14   0]\n",
      " [  1   4   4   5   1]]\n",
      "\n",
      "Accuracy on test set:  0.66189111747851\n"
     ]
    }
   ],
   "source": [
    "svcrbf = SVC()\n",
    "svcrbf.fit(X_train, y_train)\n",
    "pred = svcrbf.predict(X_test)\n",
    "print(\"Confusion matrix on test set:\\n\", sk.metrics.confusion_matrix(y_test, pred))\n",
    "print(\"\\nAccuracy on test set: \", sk.metrics.accuracy_score(y_test, pred))"
   ]
  },
  {
   "cell_type": "code",
   "execution_count": 19,
   "metadata": {
    "pycharm": {
     "is_executing": true,
     "name": "#%%\n"
    }
   },
   "outputs": [
    {
     "name": "stdout",
     "output_type": "stream",
     "text": [
      "Fitting 5 folds for each of 64 candidates, totalling 320 fits\n"
     ]
    },
    {
     "name": "stderr",
     "output_type": "stream",
     "text": [
      "[Parallel(n_jobs=-1)]: Using backend LokyBackend with 16 concurrent workers.\n",
      "[Parallel(n_jobs=-1)]: Batch computation too fast (0.0250s.) Setting batch_size=2.\n",
      "[Parallel(n_jobs=-1)]: Done   9 tasks      | elapsed:    0.0s\n",
      "[Parallel(n_jobs=-1)]: Done  18 tasks      | elapsed:    0.0s\n",
      "[Parallel(n_jobs=-1)]: Done  29 tasks      | elapsed:    0.0s\n",
      "[Parallel(n_jobs=-1)]: Batch computation too fast (0.1165s.) Setting batch_size=4.\n",
      "[Parallel(n_jobs=-1)]: Done  48 tasks      | elapsed:    0.1s\n",
      "[Parallel(n_jobs=-1)]: Done  74 tasks      | elapsed:    0.1s\n",
      "[Parallel(n_jobs=-1)]: Batch computation too fast (0.1130s.) Setting batch_size=8.\n",
      "[Parallel(n_jobs=-1)]: Done 104 tasks      | elapsed:    0.2s\n",
      "[Parallel(n_jobs=-1)]: Done 164 tasks      | elapsed:    0.3s\n",
      "[Parallel(n_jobs=-1)]: Done 203 tasks      | elapsed:    0.4s\n",
      "[Parallel(n_jobs=-1)]: Done 229 tasks      | elapsed:    0.4s\n",
      "[Parallel(n_jobs=-1)]: Done 255 tasks      | elapsed:    0.6s\n",
      "[Parallel(n_jobs=-1)]: Done 274 tasks      | elapsed:    0.7s\n",
      "[Parallel(n_jobs=-1)]: Done 320 out of 320 | elapsed:    1.7s finished\n"
     ]
    }
   ],
   "source": [
    "# Values we will test for each parameter. When observing results, consider the limits of the\n",
    "# values tested and increase them if necessary\n",
    "gammas = [0.000001, 0.00001, 0.0001, 0.001, 0.01, 0.1, 1, 10]\n",
    "Cs = np.logspace(-1, 6, num=8, base=10.0)\n",
    "\n",
    "param_grid = {'C': Cs, 'gamma' : gammas}\n",
    "grid_search = GridSearchCV(SVC(), param_grid, cv=5, n_jobs=-1, scoring='f1_micro', verbose=10)\n",
    "grid_search.fit(X_train,y_train)\n",
    "parval=grid_search.best_params_\n",
    "\n",
    "# We'll show in a grid, the accuracy for each combination of parameters tester\n",
    "scores = grid_search.cv_results_['mean_test_score']\n",
    "scores = np.array(scores).reshape(len(param_grid['C']), len(param_grid['gamma']))"
   ]
  },
  {
   "cell_type": "code",
   "execution_count": 20,
   "metadata": {
    "pycharm": {
     "is_executing": true,
     "name": "#%%\n"
    }
   },
   "outputs": [
    {
     "name": "stdout",
     "output_type": "stream",
     "text": [
      "\n",
      "Best combination of parameters found:  {'C': 10.0, 'gamma': 1}\n",
      "\n",
      "F1 score 5-fold cross on train data=  0.7404756494736044\n"
     ]
    },
    {
     "data": {
      "image/png": "[encoded data removed]",
      "text/plain": [
       "<Figure size 288x288 with 2 Axes>"
      ]
     },
     "metadata": {
      "needs_background": "light"
     },
     "output_type": "display_data"
    }
   ],
   "source": [
    "plt.matshow(scores)\n",
    "plt.xlabel('gamma')\n",
    "plt.ylabel('C')\n",
    "plt.colorbar(label='F1 score')\n",
    "plt.grid(b=None)\n",
    "plt.xticks(np.arange(len(param_grid['gamma'])), param_grid['gamma'], rotation='vertical')\n",
    "plt.yticks(np.arange(len(param_grid['C'])), param_grid['C'])\n",
    "plt.savefig(\"../figures/svm_rbf_C_cv.pdf\")\n",
    "\n",
    "parval = grid_search.best_params_\n",
    "print(\"\\nBest combination of parameters found: \", parval)\n",
    "\n",
    "cvacc = cross_val_score(SVC(C=parval['C'], gamma=parval['gamma']) , X=X_train,  y=y_train, cv=5, scoring='f1_micro', n_jobs=-1)\n",
    "print('\\nF1 score 5-fold cross on train data= ', cvacc.mean())"
   ]
  },
  {
   "cell_type": "code",
   "execution_count": 21,
   "metadata": {
    "pycharm": {
     "is_executing": true,
     "name": "#%%\n"
    }
   },
   "outputs": [
    {
     "name": "stdout",
     "output_type": "stream",
     "text": [
      "Confusion matrix on test set:\n",
      " [[199   3   2   4   0]\n",
      " [ 39  22   2   0   0]\n",
      " [  8   4   9   5   1]\n",
      " [ 17   1   2  16   0]\n",
      " [  6   0   1   3   5]]\n",
      "\n",
      "Accuracy on test set:  0.7191977077363897\n",
      "\n",
      "F1 score on test set:  0.7191977077363897\n",
      "\n",
      "Number of supports:  545 ( 2 of them have slacks)\n",
      "Prop. of supports:  0.6703567035670357\n"
     ]
    }
   ],
   "source": [
    "svcrbf = SVC(C=parval['C'], gamma=parval['gamma'])\n",
    "svcrbf.fit(X_train, y_train)\n",
    "pred = svcrbf.predict(X_test)\n",
    "\n",
    "print(\"Confusion matrix on test set:\\n\", sk.metrics.confusion_matrix(y_test, pred))\n",
    "print(\"\\nAccuracy on test set: \", sk.metrics.accuracy_score(y_test, pred))\n",
    "print(\"\\nF1 score on test set: \", sk.metrics.f1_score(y_test, pred, average='micro'))\n",
    "print(\"\\nNumber of supports: \",np.sum(svcrbf.n_support_), \"(\",np.sum(np.abs(svcrbf.dual_coef_)==parval['C']) ,\"of them have slacks)\")\n",
    "print(\"Prop. of supports: \",np.sum(svcrbf.n_support_)/X_train.shape[0])"
   ]
  }
 ],
 "metadata": {
  "kernelspec": {
   "display_name": "Python 3",
   "language": "python",
   "name": "python3"
  },
  "language_info": {
   "codemirror_mode": {
    "name": "ipython",
    "version": 3
   },
   "file_extension": ".py",
   "mimetype": "text/x-python",
   "name": "python",
   "nbconvert_exporter": "python",
   "pygments_lexer": "ipython3",
   "version": "3.8.5"
  }
 },
 "nbformat": 4,
 "nbformat_minor": 1
}
