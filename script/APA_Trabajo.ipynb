{
 "cells": [
  {
   "cell_type": "code",
   "execution_count": 35,
   "metadata": {},
   "outputs": [],
   "source": [
    "import pandas as pd\n",
    "import numpy as np"
   ]
  },
  {
   "cell_type": "code",
   "execution_count": 36,
   "metadata": {},
   "outputs": [],
   "source": [
    "from os import listdir\n",
    "from os.path import isfile, join"
   ]
  },
  {
   "cell_type": "code",
   "execution_count": 128,
   "metadata": {
    "scrolled": false
   },
   "outputs": [
    {
     "data": {
      "text/plain": [
       "['../cleveland.data',\n",
       " '../hungarian.data',\n",
       " '../long-beach-va.data',\n",
       " '../new.data',\n",
       " '../switzerland.data']"
      ]
     },
     "execution_count": 128,
     "metadata": {},
     "output_type": "execute_result"
    }
   ],
   "source": [
    "onlyfiles = ['../' + f for f in listdir('../') if isfile(join('../', f))]\n",
    "onlyfiles"
   ]
  },
  {
   "cell_type": "code",
   "execution_count": 190,
   "metadata": {},
   "outputs": [],
   "source": [
    "def treatement(file, limit=-1):\n",
    "    file = open(file, encoding='iso-8859-1')\n",
    "    data = file.read()\n",
    "    file.close()\n",
    "    data = data.replace('\\n', ' ')\n",
    "    if limit != -1:\n",
    "        data = np.array(data.split(' name '))[:-limit]\n",
    "    else:\n",
    "        data = np.array(data.split(' name '))\n",
    "    data = list(filter(lambda x: len(x) > 0, list(map(lambda x: np.array(x.split(' ')).flatten(), data))))[:-1]\n",
    "    data = np.float32(np.array(data))\n",
    "    #condlist = [2, 3, 8, 9, 11, 15, 18, 31, 37, 39, 40, 43, 50, 13, 14, 32, 33, 34, 57]\n",
    "    condlist = [2, 3, 8, 9, 11, 15, 18, 31, 37, 39, 40, 43, 50, 13, 14, 34, 57, 41, 42]\n",
    "    data_selected = []\n",
    "    for i in range(len(data)):\n",
    "        data_selected.append([data[i][x] for x in range(len(data[i])) if x in condlist])\n",
    "    data_selected = np.array(data_selected)\n",
    "    return data_selected"
   ]
  },
  {
   "cell_type": "code",
   "execution_count": 191,
   "metadata": {},
   "outputs": [],
   "source": [
    "data = []\n",
    "for file in onlyfiles:\n",
    "    if 'cleveland' in file:\n",
    "        data = data + list(treatement(file, 11))\n",
    "    else:\n",
    "        data = data + list(treatement(file))"
   ]
  },
  {
   "cell_type": "code",
   "execution_count": 193,
   "metadata": {},
   "outputs": [
    {
     "data": {
      "text/plain": [
       "(1202, 19)"
      ]
     },
     "execution_count": 193,
     "metadata": {},
     "output_type": "execute_result"
    }
   ],
   "source": [
    "data = np.array(data)\n",
    "data.shape\n"
   ]
  },
  {
   "cell_type": "code",
   "execution_count": 194,
   "metadata": {},
   "outputs": [],
   "source": [
    "df = pd.DataFrame(data, columns=['age', 'sex', 'chest_pain', 'presure_resting', \n",
    "                                          'colesterol', 'sugar', 'electrocardio',\n",
    "                                          'max_heart_rate', 'angina', 'rest_after_exercicie_presure',\n",
    "                                          'slope_of_rest_after_exercice', 'major_vessels', 'thal',\n",
    "                                          'cigarettes_per_day', 'smoker_years', 'res_heart_rate',\n",
    "                                          'blood_presure_sistoles', 'blood_presure_diastoles', \n",
    "                                          'prob'])"
   ]
  },
  {
   "cell_type": "code",
   "execution_count": 195,
   "metadata": {},
   "outputs": [],
   "source": [
    "df[df == -9.0] = np.nan"
   ]
  },
  {
   "cell_type": "code",
   "execution_count": 196,
   "metadata": {},
   "outputs": [
    {
     "name": "stdout",
     "output_type": "stream",
     "text": [
      "\u001b[1mage\u001b[0;0m\n",
      "[63. 67. 37. 41. 56. 62. 57. 53. 44. 52. 48. 54. 49. 64. 58. 60. 50. 66.\n",
      " 43. 40. 69. 59. 42. 55. 61. 65. 71. 51. 46. 45. 39. 68. 47. 34. 35. 29.\n",
      " 70. 77. 38. 74. 76. 36. 32. 31. 33. 28. 30. 72. 75. 73.]\n",
      "\u001b[1msex\u001b[0;0m\n",
      "[1. 0.]\n",
      "\u001b[1mchest_pain\u001b[0;0m\n",
      "[1. 4. 3. 2.]\n",
      "\u001b[1mpresure_resting\u001b[0;0m\n",
      "[145. 160. 120. 130. 140. 172. 150. 110. 132. 117. 135. 112. 105. 124.\n",
      " 125. 142. 128. 170. 155. 104. 180. 138. 108. 134. 122. 115. 118. 100.\n",
      " 200.  94. 165. 102. 152. 101. 126. 174. 148. 178. 158. 192. 129. 144.\n",
      " 123. 136. 146. 106. 156. 154. 113. 190.  92.  98.  nan 116.   0.  96.\n",
      " 114. 127. 164.  95.  80. 185.]\n",
      "\u001b[1mcolesterol\u001b[0;0m\n",
      "[233. 286. 229. 250. 204. 236. 268. 354. 254. 203. 192. 294. 256. 263.\n",
      " 199. 168. 239. 275. 266. 211. 283. 284. 224. 206. 219. 340. 226. 247.\n",
      " 167. 230. 335. 234. 177. 276. 353. 243. 225. 302. 212. 330. 175. 417.\n",
      " 197. 198. 290. 253. 172. 273. 213. 305. 216. 304. 188. 282. 185. 232.\n",
      " 326. 231. 269. 267. 248. 360. 258. 308. 245. 270. 208. 264. 321. 274.\n",
      " 325. 235. 257. 164. 141. 252. 255. 201. 222. 260. 182. 303. 265. 309.\n",
      " 307. 249. 186. 341. 183. 407. 217. 288. 220. 209. 227. 261. 174. 281.\n",
      " 221. 205. 240. 289. 318. 298. 564. 246. 322. 299. 300. 293. 277. 214.\n",
      " 207. 223. 160. 394. 184. 315. 409. 244. 195. 196. 126. 313. 259. 200.\n",
      " 262. 215. 228. 193. 271. 210. 327. 149. 295. 306. 178. 237. 218. 242.\n",
      " 319. 166. 180. 311. 278.  nan 339. 468. 518. 194. 365. 342. 202. 297.\n",
      " 412. 163. 529. 100. 238. 291. 329. 147.  85. 179. 392. 466. 129. 241.\n",
      " 338. 156. 272. 393. 161. 292. 388. 331. 279. 603. 320. 187. 287. 404.\n",
      " 312. 251. 328. 285. 280. 132. 117. 173. 336. 355. 171. 491. 347. 344.\n",
      " 358. 190.   0. 153. 316. 458. 384. 349. 142. 181. 310. 170. 369. 165.\n",
      " 337. 333. 139. 385. 169. 157. 176. 131.]\n",
      "\u001b[1msugar\u001b[0;0m\n",
      "[50. 40. 20.  0. 75. 30. 15.  2. 25. nan 10. 60. 99.  4. 80.  8.  5.  3.\n",
      " 70. 35.  1.  9. 28. 45. 65.  7.]\n",
      "\u001b[1melectrocardio\u001b[0;0m\n",
      "[20. 40. 35.  0. 25. 30. 22. nan 32.  8. 50. 19. 23. 24. 29.  1. 15. 54.\n",
      "  6. 33. 34. 45. 10. 47.  7. 36. 37. 38. 41. 18. 48. 17. 28.  5. 31.  4.\n",
      " 14. 27.  3.  2. 42. 60. 21.]\n",
      "\u001b[1mmax_heart_rate\u001b[0;0m\n",
      "[ 1.  0. nan]\n",
      "\u001b[1mangina\u001b[0;0m\n",
      "[ 2.  0.  1. nan]\n",
      "\u001b[1mrest_after_exercicie_presure\u001b[0;0m\n",
      "[150. 108. 129. 187. 172. 178. 160. 163. 147. 155. 148. 153. 142. 173.\n",
      " 162. 174. 168. 139. 171. 144. 132. 158. 114. 151. 161. 179. 120. 112.\n",
      " 137. 157. 169. 165. 123. 128. 152. 140. 188. 109. 125. 131. 170. 113.\n",
      "  99. 177. 141. 180. 111. 143. 182. 156. 115. 149. 145. 146. 175. 186.\n",
      " 185. 159. 130. 190. 136.  97. 127. 154. 133. 126. 202. 103. 166. 164.\n",
      " 184. 124. 122.  96. 138.  88. 105. 194. 195. 106. 167.  95. 192. 117.\n",
      " 121. 116.  71. 118. 181. 134.  98.  87. 100.  82. 135.  94. 110.  92.\n",
      " 176. 119.  90. 102.  91.  nan  86.  84.  80. 107.  69.  73.  93.  77.\n",
      " 104.  72.  63.  83.  60.  70.  67.  78.]\n",
      "\u001b[1mslope_of_rest_after_exercice\u001b[0;0m\n",
      "[ 90.  80.  68.  74.  70.  84. 120.  75. 118.  87.  96.  98.  64.  60.\n",
      "  62. 100.  85. 105.  78.  83.  50.  95.  65.  88. 110.  72.  82.  76.\n",
      " 104.  40.  94.  89.  58.  45.  56.  66.  26.  77.  86.  92. 106. 115.\n",
      " 130. 116. 108. 134.  nan  11. 114. 112. 102.  55.]\n",
      "\u001b[1mmajor_vessels\u001b[0;0m\n",
      "[ 0.  1. nan]\n",
      "\u001b[1mthal\u001b[0;0m\n",
      "[ 2.3  1.5  2.6  3.5  1.4  0.8  3.6  0.6  3.1  0.4  1.3  0.   0.5  1.6\n",
      "  1.   1.2  0.2  1.8  3.2  2.4  2.   2.5  2.2  2.8  3.   3.4  6.2  4.\n",
      "  5.6  2.9  0.1  2.1  1.9  4.2  0.9  1.1  3.8  0.7  0.3  5.  -0.5  nan\n",
      "  1.7  4.4 -0.9 -2.6 -1.5 -0.1 -1.  -1.1 -0.7 -0.8  3.7 -2. ]\n",
      "\u001b[1mcigarettes_per_day\u001b[0;0m\n",
      "[ 3.  2.  1. nan  0.]\n",
      "\u001b[1msmoker_years\u001b[0;0m\n",
      "[nan 26. 14. 17. 19. 13. 20. 11. 18.  6. 16. 15. 22. 10. 27. 25. 23.  7.\n",
      "  9.  8. 12.  5. 24. 31.  4. 21. 28.  3. 29. 36. 30.  2.]\n",
      "\u001b[1mres_heart_rate\u001b[0;0m\n",
      "[172. 185. 150. 167.  40. 127. 122.  75.  68. 200. 175. 110.  49. 231.\n",
      " 197.  85. 170.  93. 145.  24. 220. 270. 152. 140.  74. 118. 176. 105.\n",
      " 120. 115.  60. 113.  59.  70. 195.  92. 133. 103. 100. 160. 163. 125.\n",
      "  48.  57. 210.  80.  72. 112. 155. 130. 134.  65. 132. 116. 225. 204.\n",
      "  94.  98.  88.  45. 157. 180. 190.  58.  76.  90. 111. 117. 171.  97.\n",
      " 161. 153.  83.  96.  35.  73. 123.  28. 227. 158. 166. 101.  30. 148.\n",
      "  50.  95. 137.  47. 178. 230. 206. 106. 222. 135. 138. 144. 108. 179.\n",
      " 121.  87.  71. 104. 102.  55. 177. 252. 253. 154.  78. 165. 240.  41.\n",
      "  62.  91.  20.  13.  14.  22.   9.  21.  11.  19.   6.  18.  17.  12.\n",
      "  16.  10.  25.   7.   8.  15.   5.  26.   4.   3.  23.  27.   2.  nan\n",
      "  29.  36.]\n",
      "\u001b[1mblood_presure_sistoles\u001b[0;0m\n",
      "[ 0.  3.  2.  1. nan  9.]\n",
      "\u001b[1mblood_presure_diastoles\u001b[0;0m\n",
      "[ 6.  3.  7. nan  2.  5.  1.  4.]\n",
      "\u001b[1mprob\u001b[0;0m\n",
      "[0. 2. 1. 3. 4.]\n"
     ]
    }
   ],
   "source": [
    "for name in df.columns:\n",
    "    print('\\033[1m'+name+'\\033[0;0m')\n",
    "    print(df[name].unique())"
   ]
  },
  {
   "cell_type": "code",
   "execution_count": 197,
   "metadata": {},
   "outputs": [
    {
     "data": {
      "text/plain": [
       "16.857868464839303"
      ]
     },
     "execution_count": 197,
     "metadata": {},
     "output_type": "execute_result"
    }
   ],
   "source": [
    "df.isna().sum().sum()/(df.shape[0]*df.shape[1])*100"
   ]
  },
  {
   "cell_type": "code",
   "execution_count": 198,
   "metadata": {},
   "outputs": [
    {
     "data": {
      "text/plain": [
       "3850"
      ]
     },
     "execution_count": 198,
     "metadata": {},
     "output_type": "execute_result"
    }
   ],
   "source": [
    "df.isna().sum().sum()"
   ]
  },
  {
   "cell_type": "code",
   "execution_count": 199,
   "metadata": {},
   "outputs": [
    {
     "name": "stdout",
     "output_type": "stream",
     "text": [
      "column age : \n",
      "\t\u001b[1m0.0%\u001b[0;0m nulls\n",
      "\n",
      "column sex : \n",
      "\t\u001b[1m0.0%\u001b[0;0m nulls\n",
      "\n",
      "column chest_pain : \n",
      "\t\u001b[1m0.0%\u001b[0;0m nulls\n",
      "\n",
      "column presure_resting : \n",
      "\t\u001b[1m4.9%\u001b[0;0m nulls\n",
      "\n",
      "column colesterol : \n",
      "\t\u001b[1m2.49%\u001b[0;0m nulls\n",
      "\n",
      "column sugar : \n",
      "\t\u001b[1m35.35%\u001b[0;0m nulls\n",
      "\n",
      "column electrocardio : \n",
      "\t\u001b[1m36.35%\u001b[0;0m nulls\n",
      "\n",
      "column max_heart_rate : \n",
      "\t\u001b[1m7.48%\u001b[0;0m nulls\n",
      "\n",
      "column angina : \n",
      "\t\u001b[1m0.16%\u001b[0;0m nulls\n",
      "\n",
      "column rest_after_exercicie_presure : \n",
      "\t\u001b[1m4.57%\u001b[0;0m nulls\n",
      "\n",
      "column slope_of_rest_after_exercice : \n",
      "\t\u001b[1m5.24%\u001b[0;0m nulls\n",
      "\n",
      "column major_vessels : \n",
      "\t\u001b[1m4.57%\u001b[0;0m nulls\n",
      "\n",
      "column thal : \n",
      "\t\u001b[1m5.15%\u001b[0;0m nulls\n",
      "\n",
      "column cigarettes_per_day : \n",
      "\t\u001b[1m25.62%\u001b[0;0m nulls\n",
      "\n",
      "column smoker_years : \n",
      "\t\u001b[1m60.56%\u001b[0;0m nulls\n",
      "\n",
      "column res_heart_rate : \n",
      "\t\u001b[1m37.02%\u001b[0;0m nulls\n",
      "\n",
      "column blood_presure_sistoles : \n",
      "\t\u001b[1m50.91%\u001b[0;0m nulls\n",
      "\n",
      "column blood_presure_diastoles : \n",
      "\t\u001b[1m39.85%\u001b[0;0m nulls\n",
      "\n",
      "column prob : \n",
      "\t\u001b[1m0.0%\u001b[0;0m nulls\n",
      "\n"
     ]
    }
   ],
   "source": [
    "for name in df.columns:\n",
    "    n = float(int(df[name].isna().sum()/(df.shape[0])*10000))/100\n",
    "    print('column {} : \\n'.format(name) + '\\t\\033[1m' + '{}%'.format(n) + '\\033[0;0m' + ' nulls\\n')"
   ]
  },
  {
   "cell_type": "code",
   "execution_count": 163,
   "metadata": {},
   "outputs": [],
   "source": [
    "nan_indices1 = df.index[df['blood_presure_sistoles'].isna()]\n",
    "df2 = df.drop(nan_indices1[:int(len(nan_indices1) * 0.4)])\n",
    "nan_indices2 = df2.index[df2['blood_presure_diastoles'].isna()]\n",
    "df2 = df2.drop(nan_indices2[:int(len(nan_indices2) * 0.2)])"
   ]
  },
  {
   "cell_type": "code",
   "execution_count": 164,
   "metadata": {},
   "outputs": [
    {
     "name": "stdout",
     "output_type": "stream",
     "text": [
      "column age : \n",
      "\t\u001b[1m0.0%\u001b[0;0m nulls\n",
      "\n",
      "column sex : \n",
      "\t\u001b[1m0.0%\u001b[0;0m nulls\n",
      "\n",
      "column chest_pain : \n",
      "\t\u001b[1m0.0%\u001b[0;0m nulls\n",
      "\n",
      "column presure_resting : \n",
      "\t\u001b[1m6.4%\u001b[0;0m nulls\n",
      "\n",
      "column colesterol : \n",
      "\t\u001b[1m0.77%\u001b[0;0m nulls\n",
      "\n",
      "column sugar : \n",
      "\t\u001b[1m14.9%\u001b[0;0m nulls\n",
      "\n",
      "column electrocardio : \n",
      "\t\u001b[1m16.11%\u001b[0;0m nulls\n",
      "\n",
      "column max_heart_rate : \n",
      "\t\u001b[1m9.05%\u001b[0;0m nulls\n",
      "\n",
      "column angina : \n",
      "\t\u001b[1m0.11%\u001b[0;0m nulls\n",
      "\n",
      "column rest_after_exercicie_presure : \n",
      "\t\u001b[1m5.96%\u001b[0;0m nulls\n",
      "\n",
      "column slope_of_rest_after_exercice : \n",
      "\t\u001b[1m6.07%\u001b[0;0m nulls\n",
      "\n",
      "column major_vessels : \n",
      "\t\u001b[1m6.84%\u001b[0;0m nulls\n",
      "\n",
      "column thal : \n",
      "\t\u001b[1m6.84%\u001b[0;0m nulls\n",
      "\n",
      "column cigarettes_per_day : \n",
      "\t\u001b[1m5.96%\u001b[0;0m nulls\n",
      "\n",
      "column smoker_years : \n",
      "\t\u001b[1m6.84%\u001b[0;0m nulls\n",
      "\n",
      "column res_heart_rate : \n",
      "\t\u001b[1m13.24%\u001b[0;0m nulls\n",
      "\n",
      "column blood_presure_sistoles : \n",
      "\t\u001b[1m35.43%\u001b[0;0m nulls\n",
      "\n",
      "column blood_presure_diastoles : \n",
      "\t\u001b[1m23.17%\u001b[0;0m nulls\n",
      "\n",
      "column prob : \n",
      "\t\u001b[1m0.0%\u001b[0;0m nulls\n",
      "\n"
     ]
    }
   ],
   "source": [
    "for name in df2.columns:\n",
    "    n = float(int(df2[name].isna().sum()/(df2.shape[0])*10000))/100\n",
    "    print('column {} : \\n'.format(name) + '\\t\\033[1m' + '{}%'.format(n) + '\\033[0;0m' + ' nulls\\n')"
   ]
  }
 ],
 "metadata": {
  "kernelspec": {
   "display_name": "Python 3",
   "language": "python",
   "name": "python3"
  },
  "language_info": {
   "codemirror_mode": {
    "name": "ipython",
    "version": 3
   },
   "file_extension": ".py",
   "mimetype": "text/x-python",
   "name": "python",
   "nbconvert_exporter": "python",
   "pygments_lexer": "ipython3",
   "version": "3.8.3"
  }
 },
 "nbformat": 4,
 "nbformat_minor": 4
}
