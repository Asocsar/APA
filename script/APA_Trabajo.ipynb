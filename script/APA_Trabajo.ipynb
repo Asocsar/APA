{
 "cells": [
  {
   "cell_type": "code",
   "execution_count": null,
   "metadata": {},
   "outputs": [],
   "source": [
    "import pandas as pd\n",
    "import numpy as np"
   ]
  },
  {
   "cell_type": "code",
   "execution_count": null,
   "metadata": {},
   "outputs": [],
   "source": [
    "from os import listdir\n",
    "from os.path import isfile, join"
   ]
  },
  {
   "cell_type": "code",
   "execution_count": null,
   "metadata": {
    "scrolled": false
   },
   "outputs": [],
   "source": [
    "onlyfiles = ['../' + f for f in listdir('../') if isfile(join('../', f))]\n",
    "onlyfiles"
   ]
  },
  {
   "cell_type": "code",
   "execution_count": null,
   "metadata": {},
   "outputs": [],
   "source": [
    "def treatement(file, limit=-1):\n",
    "    file = open(file, encoding='iso-8859-1')\n",
    "    data = file.read()\n",
    "    file.close()\n",
    "    data = data.replace('\\n', ' ')\n",
    "    if limit != -1:\n",
    "        data = np.array(data.split(' name '))[:-limit]\n",
    "    else:\n",
    "        data = np.array(data.split(' name '))\n",
    "    data = list(filter(lambda x: len(x) > 0, list(map(lambda x: np.array(x.split(' ')).flatten(), data))))[:-1]\n",
    "    data = np.float32(np.array(data))\n",
    "    condlist = [2, 3, 8, 9, 11, 13, 14, 15, 18, 31, 32, 33, 34, 37, 39, 40, 43, 50, 57]\n",
    "    data_selected = []\n",
    "    for i in range(len(data)):\n",
    "        data_selected.append([data[i][x] for x in range(len(data[i])) if x in condlist])\n",
    "    data_selected = np.array(data_selected)\n",
    "    return data_selected"
   ]
  },
  {
   "cell_type": "code",
   "execution_count": null,
   "metadata": {},
   "outputs": [],
   "source": [
    "data = []\n",
    "for file in onlyfiles:\n",
    "    if 'cleveland' in file:\n",
    "        data = data + list(treatement(file, 11))\n",
    "    else:\n",
    "        data = data + list(treatement(file))"
   ]
  },
  {
   "cell_type": "code",
   "execution_count": null,
   "metadata": {},
   "outputs": [],
   "source": [
    "data = np.array(data)\n",
    "data.shape\n"
   ]
  },
  {
   "cell_type": "code",
   "execution_count": null,
   "metadata": {},
   "outputs": [],
   "source": [
    "df = pd.DataFrame(data, columns=['age', 'sex', 'chest_pain', 'presure_blood_resting', \n",
    "                                          'colesterol','cigarettes_per_day', 'smoker_years',\n",
    "                                           'sugar', 'electrocardio',\n",
    "                                          'max_heart_rate',  'res_heart_rate',\n",
    "                                          'blood_presure_sistoles', 'blood_presure_diastoles', \n",
    "                                          'angina', 'rest_after_exercicie_presure',\n",
    "                                          'slope_of_rest_after_exercise', 'major_vessels', 'thal',\n",
    "                                          'prob'])"
   ]
  },
  {
   "cell_type": "code",
   "execution_count": null,
   "metadata": {},
   "outputs": [],
   "source": [
    "df[df == -9.0] = np.nan\n",
    "df[df['presure_blood_resting'] == 0] = np.nan\n",
    "df[df['colesterol'] == 0] = np.nan"
   ]
  },
  {
   "cell_type": "code",
   "execution_count": null,
   "metadata": {},
   "outputs": [],
   "source": [
    "for name in df.columns:\n",
    "    print('\\033[1m'+name+'\\033[0;0m')\n",
    "    print(df[name].unique())"
   ]
  },
  {
   "cell_type": "code",
   "execution_count": null,
   "metadata": {},
   "outputs": [],
   "source": [
    "dif = {}\n",
    "\n",
    "for name in df.columns:\n",
    "    dif[name] = df[name].isna().sum()"
   ]
  },
  {
   "cell_type": "code",
   "execution_count": null,
   "metadata": {},
   "outputs": [],
   "source": [
    "col =['colesterol', 'cigarettes_per_day', 'max_heart_rate', 'presure_blood_resting', \n",
    "     'blood_presure_diastoles', 'blood_presure_sistoles', 'res_heart_rate']\n",
    "for name in col:\n",
    "    df = df[~(np.abs(df[name] - df[name].mean()) > 3*df[name].std())]"
   ]
  },
  {
   "cell_type": "code",
   "execution_count": null,
   "metadata": {},
   "outputs": [],
   "source": [
    "for name in df.columns:\n",
    "    dif[name] = dif[name] - df[name].isna().sum()"
   ]
  },
  {
   "cell_type": "code",
   "execution_count": null,
   "metadata": {},
   "outputs": [],
   "source": [
    "for name in df.columns:    \n",
    "    print('\\033[1m'+name+'\\033[0;0m')\n",
    "    print(dif[name])"
   ]
  },
  {
   "cell_type": "code",
   "execution_count": null,
   "metadata": {},
   "outputs": [],
   "source": [
    "df.isna().sum().sum()/(df.shape[0]*df.shape[1])*100"
   ]
  },
  {
   "cell_type": "code",
   "execution_count": null,
   "metadata": {},
   "outputs": [],
   "source": [
    "df.isna().sum().sum()"
   ]
  },
  {
   "cell_type": "code",
   "execution_count": null,
   "metadata": {},
   "outputs": [],
   "source": [
    "df.columns"
   ]
  },
  {
   "cell_type": "code",
   "execution_count": null,
   "metadata": {},
   "outputs": [],
   "source": [
    "#df.hist(bins=50, figsize=(20,20))"
   ]
  },
  {
   "cell_type": "code",
   "execution_count": null,
   "metadata": {},
   "outputs": [],
   "source": [
    "bool_columns = ['angina', 'sugar']\n",
    "for name in bool_columns:\n",
    "    df.loc[df[name].notna(), name] = df[df[name].notna()][name].astype(int)"
   ]
  },
  {
   "cell_type": "code",
   "execution_count": null,
   "metadata": {},
   "outputs": [],
   "source": [
    "df['thal'].replace(1.0, np.nan, inplace=True)\n",
    "df['thal'].replace(5.0, np.nan, inplace=True)\n",
    "\n",
    "df['slope_of_rest_after_exercise'].replace(0.0, np.nan, inplace=True)\n",
    "df['major_vessels'].replace(9.0, np.nan, inplace=True)\n"
   ]
  },
  {
   "cell_type": "code",
   "execution_count": null,
   "metadata": {},
   "outputs": [],
   "source": [
    "'''def thal_treatment(x):\n",
    "    if x == 3.0:\n",
    "        return \"Normal\"\n",
    "    elif x == 6.0:\n",
    "        return \"Fixed defect\"\n",
    "    elif x == 7.0:\n",
    "        return \"Reversable defect\"\n",
    "    return x\n",
    "\n",
    "df.loc[:, 'thal'] = df.loc[:,'thal'].apply(thal_treatment)\n",
    "df.loc[:,'thal'] = df['thal'].fillna('Unknown Thal')\n",
    "'''"
   ]
  },
  {
   "cell_type": "code",
   "execution_count": null,
   "metadata": {},
   "outputs": [],
   "source": [
    "categoric_columns = [\"thal\", \"slope_of_rest_after_exercise\", \"prob\", \"major_vessels\", \"electrocardio\", \"chest_pain\"]\n",
    "for name in categoric_columns:\n",
    "    OneHot = pd.get_dummies(df[name], prefix=name)\n",
    "    df = df.join(OneHot)\n",
    "    del df[name]"
   ]
  },
  {
   "cell_type": "code",
   "execution_count": null,
   "metadata": {},
   "outputs": [],
   "source": [
    "df.columns"
   ]
  },
  {
   "cell_type": "code",
   "execution_count": null,
   "metadata": {},
   "outputs": [],
   "source": [
    "from sklearn import preprocessing"
   ]
  },
  {
   "cell_type": "code",
   "execution_count": null,
   "metadata": {},
   "outputs": [],
   "source": [
    "min_max_scaler = preprocessing.MinMaxScaler()\n",
    "df_scaled = min_max_scaler.fit_transform(df.values)\n",
    "df2 = pd.DataFrame(df_scaled)"
   ]
  },
  {
   "cell_type": "code",
   "execution_count": null,
   "metadata": {},
   "outputs": [],
   "source": [
    "df2"
   ]
  },
  {
   "cell_type": "code",
   "execution_count": null,
   "metadata": {},
   "outputs": [],
   "source": [
    "from sklearn.impute import KNNImputer"
   ]
  },
  {
   "cell_type": "code",
   "execution_count": null,
   "metadata": {},
   "outputs": [],
   "source": [
    "df2[:]= imputer.fit_transform(df2)"
   ]
  },
  {
   "cell_type": "code",
   "execution_count": null,
   "metadata": {},
   "outputs": [],
   "source": [
    "df2 = pd.DataFrame(min_max_scaler.inverse_transform(df2), columns=['age', 'sex', 'presure_blood_resting', 'colesterol',\n",
    "       'cigarettes_per_day', 'smoker_years', 'sugar', 'max_heart_rate',\n",
    "       'res_heart_rate', 'blood_presure_sistoles', 'blood_presure_diastoles',\n",
    "       'angina', 'rest_after_exercicie_presure', 'thal_3.0', 'thal_6.0',\n",
    "       'thal_7.0', 'slope_of_rest_after_exercise_1.0',\n",
    "       'slope_of_rest_after_exercise_2.0', 'slope_of_rest_after_exercise_3.0',\n",
    "       'prob_0.0', 'prob_1.0', 'prob_2.0', 'prob_3.0', 'prob_4.0',\n",
    "       'major_vessels_0.0', 'major_vessels_1.0', 'major_vessels_2.0',\n",
    "       'major_vessels_3.0', 'electrocardio_0.0', 'electrocardio_1.0',\n",
    "       'electrocardio_2.0', 'chest_pain_1.0', 'chest_pain_2.0',\n",
    "       'chest_pain_3.0', 'chest_pain_4.0'])"
   ]
  },
  {
   "cell_type": "code",
   "execution_count": null,
   "metadata": {},
   "outputs": [],
   "source": [
    "df2"
   ]
  },
  {
   "cell_type": "code",
   "execution_count": null,
   "metadata": {},
   "outputs": [],
   "source": [
    "for name in df2.columns:\n",
    "    print('\\033[1m'+name+'\\033[0;0m')\n",
    "    print(df2[name].unique())"
   ]
  },
  {
   "cell_type": "code",
   "execution_count": null,
   "metadata": {},
   "outputs": [],
   "source": [
    "df2.hist(bins=50, figsize=(20,20))"
   ]
  }
 ],
 "metadata": {
  "kernelspec": {
   "display_name": "Python 3",
   "language": "python",
   "name": "python3"
  },
  "language_info": {
   "codemirror_mode": {
    "name": "ipython",
    "version": 3
   },
   "file_extension": ".py",
   "mimetype": "text/x-python",
   "name": "python",
   "nbconvert_exporter": "python",
   "pygments_lexer": "ipython3",
   "version": "3.8.3-final"
  }
 },
 "nbformat": 4,
 "nbformat_minor": 4
}