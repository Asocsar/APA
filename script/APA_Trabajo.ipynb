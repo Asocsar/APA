{
 "cells": [
  {
   "cell_type": "code",
   "execution_count": null,
   "metadata": {},
   "outputs": [],
   "source": [
    "# *----------------------------------*\n",
    "#           BASIC LIBRARIES\n",
    "# *----------------------------------*\n",
    "\n",
    "import pandas as pd\n",
    "import numpy as np\n",
    "from sklearn import preprocessing\n",
    "from sklearn.impute import KNNImputer\n",
    "from os import listdir\n",
    "from os.path import isfile, join\n",
    "import matplotlib.pyplot as plt"
   ]
  },
  {
   "cell_type": "code",
   "execution_count": null,
   "metadata": {},
   "outputs": [],
   "source": [
    "# *------------------------------------------------------*\n",
    "#                       READING DATA\n",
    "# *------------------------------------------------------*\n",
    "onlyfiles = ['../' + f for f in listdir('../') if isfile(join('../', f))]\n",
    "onlyfiles\n",
    "\n",
    "def treatement(file, limit=-1):\n",
    "    file = open(file, encoding='iso-8859-1')\n",
    "    data = file.read()\n",
    "    file.close()\n",
    "    data = data.replace('\\n', ' ')\n",
    "    if limit != -1:\n",
    "        data = np.array(data.split(' name '))[:-limit]\n",
    "    else:\n",
    "        data = np.array(data.split(' name '))\n",
    "    data = list(filter(lambda x: len(x) > 0, list(map(lambda x: np.array(x.split(' ')).flatten(), data))))[:-1]\n",
    "    data = np.float32(np.array(data))\n",
    "    condlist = [2, 3, 8, 9, 11, 13, 14, 15, 18, 31, 32, 33, 34, 37, 39, 40, 43, 50, 57]\n",
    "    data_selected = []\n",
    "    for i in range(len(data)):\n",
    "        data_selected.append([data[i][x] for x in range(len(data[i])) if x in condlist])\n",
    "    data_selected = np.array(data_selected)\n",
    "    return data_selected\n",
    "\n",
    "\n",
    "data = []\n",
    "for file in onlyfiles:\n",
    "    if 'cleveland' in file:\n",
    "        data = data + list(treatement(file, 11))\n",
    "    else:\n",
    "        data = data + list(treatement(file))\n",
    "\n",
    "\n",
    "data = np.array(data)\n",
    "print(data.shape)\n",
    "\n",
    "\n",
    "df = pd.DataFrame(data, columns=['age', 'sex', 'chest_pain', 'presure_blood_resting', \n",
    "                                          'colesterol','cigarettes_per_day', 'smoker_years',\n",
    "                                           'sugar', 'electrocardio',\n",
    "                                          'max_heart_rate',  'res_heart_rate',\n",
    "                                          'blood_presure_sistoles', 'blood_presure_diastoles', \n",
    "                                          'angina', 'rest_after_exercicie_presure',\n",
    "                                          'slope_of_rest_after_exercise', 'major_vessels', 'thal',\n",
    "                                          'prob'])\n"
   ]
  },
  {
   "cell_type": "code",
   "execution_count": null,
   "metadata": {
    "scrolled": false
   },
   "outputs": [],
   "source": [
    "# *------------------------------------------------------*\n",
    "#       NAN DEFINED VALUES AND INCHORENENT VALUES\n",
    "# *------------------------------------------------------*\n",
    "df[df == -9.0] = np.nan\n",
    "df[df['presure_blood_resting'] == 0] = np.nan\n",
    "df[df['colesterol'] == 0] = np.nan"
   ]
  },
  {
   "cell_type": "code",
   "execution_count": null,
   "metadata": {},
   "outputs": [],
   "source": [
    "# *------------------------------------------------------*\n",
    "#               FIRST VIEW OF DATA VALUES\n",
    "# *------------------------------------------------------*\n",
    "\n",
    "for name in df.columns:\n",
    "    print('\\033[1m'+name+'\\033[0;0m')\n",
    "    print(df[name].unique())\n"
   ]
  },
  {
   "cell_type": "code",
   "execution_count": null,
   "metadata": {},
   "outputs": [],
   "source": [
    "# *------------------------------------------------------*\n",
    "#               REMOVING OUTLIERS\n",
    "# *------------------------------------------------------*\n",
    "\n",
    "col =['colesterol', 'cigarettes_per_day', 'max_heart_rate', 'presure_blood_resting', \n",
    "     'blood_presure_diastoles', 'blood_presure_sistoles', 'res_heart_rate']\n",
    "for name in col:\n",
    "    df = df[~(np.abs(df[name] - df[name].mean()) > 3*df[name].std())]"
   ]
  },
  {
   "cell_type": "code",
   "execution_count": null,
   "metadata": {},
   "outputs": [],
   "source": [
    "# *------------------------------------------------------*\n",
    "#                   TOTAL NUMBER OF NULLS\n",
    "# *------------------------------------------------------*\n",
    "\n",
    "print(\"Total of nulls\", df.isna().sum().sum()/(df.shape[0]*df.shape[1])*100, \"%\")\n",
    "print(df.columns)"
   ]
  },
  {
   "cell_type": "code",
   "execution_count": null,
   "metadata": {},
   "outputs": [],
   "source": [
    "# *------------------------------------------------------*\n",
    "#                   CHANGING DATATYPE\n",
    "# *------------------------------------------------------*\n",
    "\n",
    "bool_columns = ['angina', 'sugar']\n",
    "for name in bool_columns:\n",
    "    df.loc[df[name].notna(), name] = df[df[name].notna()][name].astype(int)\n",
    "\n",
    "df.loc[:,'angina'] = df['angina'].apply(lambda x: x > 0)\n",
    "df.loc[:,'sugar'] = df['sugar'].apply(lambda x: x > 0)\n",
    "df.loc[:,'sex'] = df['sex'].apply(lambda x: x > 0)"
   ]
  },
  {
   "cell_type": "code",
   "execution_count": null,
   "metadata": {},
   "outputs": [],
   "source": [
    "# *------------------------------------------------------*\n",
    "#                   ERROR VALUES\n",
    "# *------------------------------------------------------*\n",
    "\n",
    "df['thal'].replace(1.0, np.nan, inplace=True)\n",
    "df['thal'].replace(5.0, np.nan, inplace=True)\n",
    "\n",
    "df['slope_of_rest_after_exercise'].replace(0.0, np.nan, inplace=True)\n",
    "df['major_vessels'].replace(9.0, np.nan, inplace=True)\n"
   ]
  },
  {
   "cell_type": "code",
   "execution_count": null,
   "metadata": {},
   "outputs": [],
   "source": [
    "# *------------------------------------------------------*\n",
    "#               ONE HOT ENCODING FOR CATEGORIACAL\n",
    "# *------------------------------------------------------*\n",
    "\n",
    "categoric_columns = [\"thal\", \"slope_of_rest_after_exercise\", \"prob\", \"major_vessels\", \"electrocardio\", \"chest_pain\"]\n",
    "for name in categoric_columns:\n",
    "    OneHot = pd.get_dummies(df[name], prefix=name)\n",
    "    df = df.join(OneHot)\n",
    "    del df[name]"
   ]
  },
  {
   "cell_type": "code",
   "execution_count": null,
   "metadata": {},
   "outputs": [],
   "source": [
    "# *------------------------------------------------------*\n",
    "#           NORMALIZING AND IMPUTING MISSING VALUES\n",
    "# *------------------------------------------------------*\n",
    "\n",
    "min_max_scaler = preprocessing.MinMaxScaler()\n",
    "df_scaled = min_max_scaler.fit_transform(df.values)\n",
    "df2 = pd.DataFrame(df_scaled)\n",
    "imputer = KNNImputer()\n",
    "df2[:]= imputer.fit_transform(df2)\n",
    "df2 = pd.DataFrame(min_max_scaler.inverse_transform(df2), columns=['age', 'sex', 'presure_blood_resting', 'colesterol',\n",
    "       'cigarettes_per_day', 'smoker_years', 'sugar', 'max_heart_rate',\n",
    "       'res_heart_rate', 'blood_presure_sistoles', 'blood_presure_diastoles',\n",
    "       'angina', 'rest_after_exercicie_presure', 'thal_3.0', 'thal_6.0',\n",
    "       'thal_7.0', 'slope_of_rest_after_exercise_1.0',\n",
    "       'slope_of_rest_after_exercise_2.0', 'slope_of_rest_after_exercise_3.0',\n",
    "       'prob_0.0', 'prob_1.0', 'prob_2.0', 'prob_3.0', 'prob_4.0',\n",
    "       'major_vessels_0.0', 'major_vessels_1.0', 'major_vessels_2.0',\n",
    "       'major_vessels_3.0', 'electrocardio_0.0', 'electrocardio_1.0',\n",
    "       'electrocardio_2.0', 'chest_pain_1.0', 'chest_pain_2.0',\n",
    "       'chest_pain_3.0', 'chest_pain_4.0'])"
   ]
  },
  {
   "cell_type": "code",
   "execution_count": null,
   "metadata": {},
   "outputs": [],
   "source": [
    "# *------------------------------------------------------*\n",
    "#                   STATISTICAL ANALYSIS\n",
    "# *------------------------------------------------------*\n",
    "hist = df2.hist(bins=50, figsize=(20,20))\n",
    "box = df2.boxplot()\n",
    "plt.xticks(rotation='vertical')\n",
    "plt.xticks(rotation='horizontal')\n",
    "for name in df2.columns:\n",
    "    fig, axes= plt.subplots(1,2, gridspec_kw={'width_ratios': [1, 4]}, figsize=(9,5))\n",
    "    df2.boxplot(column=name,ax=axes[0])\n",
    "    df2.hist(column=name, ax=axes[1])\n",
    "plt.show()"
   ]
  },
  {
   "cell_type": "code",
   "execution_count": null,
   "metadata": {},
   "outputs": [],
   "source": [
    "# *------------------------------------------------------*\n",
    "#                   SAVE PREPROCESING\n",
    "# *------------------------------------------------------*\n",
    "df2.to_csv('preprocess.csv', index=False)"
   ]
  },
  {
   "cell_type": "code",
   "execution_count": null,
   "metadata": {},
   "outputs": [],
   "source": [
    "# *------------------------------------------------------*\n",
    "#                       UTILITIES\n",
    "# *------------------------------------------------------*\n",
    "\n",
    "\n",
    "'''\n",
    "# *------------------------------------------------------*\n",
    "#           DIFFERENCES BETWEEN TWO DATAFRAMES\n",
    "# *------------------------------------------------------*\n",
    "ne_stacked = (df3 != df2).stack()\n",
    "changed = ne_stacked[ne_stacked]\n",
    "changed.index.names = ['id', 'col']\n",
    "\n",
    "difference_locations = np.where(df3 != df2)\n",
    "changed_from = df3.values[difference_locations]\n",
    "changed_to = df2.values[difference_locations]\n",
    "a = pd.DataFrame({'from': changed_from, 'to': changed_to}, index=changed.index)\n",
    "'''\n",
    "\n",
    "\n",
    "'''\n",
    "# *------------------------------------------------------*\n",
    "#           OUTLIERS AFTER IMPUTATION\n",
    "# *------------------------------------------------------*\n",
    "col = ['age', 'sex', 'presure_blood_resting', 'colesterol',\n",
    "       'cigarettes_per_day', 'smoker_years', 'max_heart_rate',\n",
    "       'res_heart_rate', 'blood_presure_sistoles', 'blood_presure_diastoles']\n",
    "\n",
    "for name in col:\n",
    "    df2 = df2[~(np.abs(df2[name] - df2[name].mean()) > 3*df2[name].std())]  \n",
    "'''"
   ]
  }
 ],
 "metadata": {
  "kernelspec": {
   "display_name": "Python 3",
   "language": "python",
   "name": "python3"
  },
  "language_info": {
   "codemirror_mode": {
    "name": "ipython",
    "version": 3
   },
   "file_extension": ".py",
   "mimetype": "text/x-python",
   "name": "python",
   "nbconvert_exporter": "python",
   "pygments_lexer": "ipython3",
   "version": "3.8.5-final"
  }
 },
 "nbformat": 4,
 "nbformat_minor": 4
}