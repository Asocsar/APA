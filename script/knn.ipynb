{
 "cells": [
  {
   "cell_type": "code",
   "execution_count": null,
   "outputs": [],
   "source": [
    "import pandas as pd\n",
    "import numpy as np\n",
    "import matplotlib.pyplot as plt\n",
    "from sklearn.model_selection import train_test_split\n",
    "from sklearn.metrics import (f1_score, confusion_matrix, accuracy_score)\n",
    "from sklearn.decomposition import PCA\n",
    "from sklearn.discriminant_analysis import LinearDiscriminantAnalysis\n",
    "from sklearn.neighbors import (KNeighborsClassifier, NeighborhoodComponentsAnalysis)\n",
    "from sklearn.pipeline import (make_pipeline, Pipeline)\n",
    "from sklearn.preprocessing import StandardScaler\n",
    "from sklearn.model_selection import ShuffleSplit, learning_curve"
   ],
   "metadata": {
    "collapsed": false,
    "pycharm": {
     "name": "#%%\n"
    }
   }
  },
  {
   "cell_type": "code",
   "execution_count": null,
   "outputs": [],
   "source": [
    "def plot_learning_curve(estimator, title, X, y, axes=None, ylim=None, cv=None,\n",
    "                        n_jobs=None, train_sizes=np.linspace(.1, 1.0, 5)):\n",
    "    if axes is None:\n",
    "        _, axes = plt.subplots(1, 3, figsize=(20, 5))\n",
    "\n",
    "    axes[0].set_title(title)\n",
    "    if ylim is not None:\n",
    "        axes[0].set_ylim(*ylim)\n",
    "    axes[0].set_xlabel(\"Training examples\")\n",
    "    axes[0].set_ylabel(\"Score\")\n",
    "\n",
    "    train_sizes, train_scores, test_scores, fit_times, _ = \\\n",
    "        learning_curve(estimator, X, y, cv=cv, n_jobs=n_jobs,\n",
    "                       train_sizes=train_sizes,\n",
    "                       return_times=True)\n",
    "    train_scores_mean = np.mean(train_scores, axis=1)\n",
    "    train_scores_std = np.std(train_scores, axis=1)\n",
    "    test_scores_mean = np.mean(test_scores, axis=1)\n",
    "    test_scores_std = np.std(test_scores, axis=1)\n",
    "    fit_times_mean = np.mean(fit_times, axis=1)\n",
    "    fit_times_std = np.std(fit_times, axis=1)\n",
    "\n",
    "    # Plot learning curve\n",
    "    axes[0].grid()\n",
    "    axes[0].fill_between(train_sizes, train_scores_mean - train_scores_std,\n",
    "                         train_scores_mean + train_scores_std, alpha=0.1,\n",
    "                         color=\"r\")\n",
    "    axes[0].fill_between(train_sizes, test_scores_mean - test_scores_std,\n",
    "                         test_scores_mean + test_scores_std, alpha=0.1,\n",
    "                         color=\"g\")\n",
    "    axes[0].plot(train_sizes, train_scores_mean, 'o-', color=\"r\",\n",
    "                 label=\"Training score\")\n",
    "    axes[0].plot(train_sizes, test_scores_mean, 'o-', color=\"g\",\n",
    "                 label=\"Cross-validation score\")\n",
    "    axes[0].legend(loc=\"best\")\n",
    "\n",
    "    # Plot n_samples vs fit_times\n",
    "    axes[1].grid()\n",
    "    axes[1].plot(train_sizes, fit_times_mean, 'o-')\n",
    "    axes[1].fill_between(train_sizes, fit_times_mean - fit_times_std,\n",
    "                         fit_times_mean + fit_times_std, alpha=0.1)\n",
    "    axes[1].set_xlabel(\"Training examples\")\n",
    "    axes[1].set_ylabel(\"fit_times\")\n",
    "    axes[1].set_title(\"Scalability of the model\")\n",
    "\n",
    "    # Plot fit_time vs score\n",
    "    axes[2].grid()\n",
    "    axes[2].plot(fit_times_mean, test_scores_mean, 'o-')\n",
    "    axes[2].fill_between(fit_times_mean, test_scores_mean - test_scores_std,\n",
    "                         test_scores_mean + test_scores_std, alpha=0.1)\n",
    "    axes[2].set_xlabel(\"fit_times\")\n",
    "    axes[2].set_ylabel(\"Score\")\n",
    "    axes[2].set_title(\"Performance of the model\")\n",
    "\n",
    "    return plt"
   ],
   "metadata": {
    "collapsed": false,
    "pycharm": {
     "name": "#%%\n"
    }
   }
  },
  {
   "cell_type": "code",
   "execution_count": null,
   "outputs": [],
   "source": [
    "df = pd.read_csv('preprocess.csv')\n",
    "df.head()"
   ],
   "metadata": {
    "collapsed": false,
    "pycharm": {
     "name": "#%%\n"
    }
   }
  },
  {
   "cell_type": "code",
   "execution_count": null,
   "outputs": [],
   "source": [
    "n = 50\n",
    "random_state = 42\n",
    "\n",
    "X = df.loc[:, df.columns != 'prob']\n",
    "y = df['prob']"
   ],
   "metadata": {
    "collapsed": false,
    "pycharm": {
     "name": "#%%\n"
    }
   }
  },
  {
   "cell_type": "code",
   "execution_count": null,
   "outputs": [],
   "source": [
    "# Split into train/test\n",
    "X_train, X_test, y_train, y_test = \\\n",
    "    train_test_split(X, y, test_size=0.3, stratify=y,\n",
    "                     random_state=random_state)"
   ],
   "metadata": {
    "collapsed": false,
    "pycharm": {
     "name": "#%%\n"
    }
   }
  },
  {
   "cell_type": "code",
   "execution_count": null,
   "outputs": [],
   "source": [
    "best = 0\n",
    "bestn = 1\n",
    "bestm = \"\"\n",
    "res = {}\n",
    "for n_neighbors in range(1,n) :\n",
    "    pca = make_pipeline(StandardScaler(),\n",
    "                        PCA(random_state=random_state))\n",
    "    lda = make_pipeline(StandardScaler(),\n",
    "                        LinearDiscriminantAnalysis())\n",
    "    nca = make_pipeline(StandardScaler(),\n",
    "                        NeighborhoodComponentsAnalysis(random_state=random_state))\n",
    "    knn = KNeighborsClassifier(n_neighbors=n_neighbors)\n",
    "    wknn = KNeighborsClassifier(n_neighbors=n_neighbors, weights='distance')\n",
    "    # Make a list of the methods to be compared\n",
    "    dim_reduction_methods = [('PCA', pca), ('LDA', lda), ('NCA', nca)]\n",
    "\n",
    "    for i, (name, model) in enumerate(dim_reduction_methods):\n",
    "        model.fit(X_train, y_train)\n",
    "        knn.fit(model.transform(X_train), y_train)\n",
    "        wknn.fit(model.transform(X_train), y_train)\n",
    "        out_knn = knn.predict(model.transform(X_test))\n",
    "        f1_knn = f1_score(y_test, out_knn, average='micro')\n",
    "        out_wknn = wknn.predict(model.transform(X_test))\n",
    "        f1_wknn = f1_score(y_test, out_wknn, average='micro')\n",
    "        if max(f1_knn, f1_wknn) > best:\n",
    "            best = max(f1_knn, f1_wknn)\n",
    "            bestn = n_neighbors\n",
    "            bestm = name\n",
    "            if f1_wknn > f1_knn:\n",
    "                bestm = \"Weighted \" + bestm\n",
    "        if name not in res.keys():\n",
    "            res[name] = [f1_knn]\n",
    "            res['W'+name] = [f1_wknn]\n",
    "        else:\n",
    "            res[name].append(f1_knn)\n",
    "            res['W'+name].append(f1_wknn)\n",
    "print(\"The best value was found with \", bestm, \" and parameter k = \", bestn, \" with a f1 score of \", best)"
   ],
   "metadata": {
    "collapsed": false,
    "pycharm": {
     "name": "#%%\n"
    }
   }
  },
  {
   "cell_type": "code",
   "execution_count": null,
   "outputs": [],
   "source": [
    "xaxis = range(1,n)\n",
    "plt.plot(xaxis, res['PCA'], 'r-', label = 'PCA')\n",
    "plt.plot(xaxis, res['LDA'], 'g-', label = 'LDA')\n",
    "plt.plot(xaxis, res['NCA'], 'b-', label = 'NCA')\n",
    "plt.plot(xaxis, res['WPCA'], 'r--', label = 'Weighted PCA')\n",
    "plt.plot(xaxis, res['WLDA'], 'g--', label = 'Weighted LDA')\n",
    "plt.plot(xaxis, res['WNCA'], 'b--', label = 'Weighted NCA')\n",
    "plt.xlabel(\"K value\")\n",
    "plt.ylabel(\"F1 Score\")\n",
    "plt.grid(True)\n",
    "plt.legend()\n",
    "plt.savefig(\"../figures/knn.pdf\")"
   ],
   "metadata": {
    "collapsed": false,
    "pycharm": {
     "name": "#%%\n"
    }
   }
  },
  {
   "cell_type": "code",
   "execution_count": null,
   "outputs": [],
   "source": [
    "knn = Pipeline(steps=[\n",
    "    ('Scaler', StandardScaler()),\n",
    "    ('PCA', PCA(random_state=42)),\n",
    "    ('KNN', KNeighborsClassifier(n_neighbors=bestn, weights='distance')),\n",
    "     ])\n",
    "title = \"KNN training curve with our best parameters\"\n",
    "cv = ShuffleSplit(n_splits=200, test_size=0.3, random_state=0)\n",
    "plot_learning_curve(knn,title,X,y,ylim=(-0.01, 1.01), cv=cv, n_jobs=-1)\n",
    "plt.savefig(\"../figures/knn_training_curve.pdf\")\n",
    "knn.fit(X_train, y_train)\n",
    "pred = knn.predict(X_test)\n",
    "print(\"\\nConfusion matrix on test set:\\n\", confusion_matrix(y_test, pred))\n",
    "print(\"\\nAccuracy on test set: \", accuracy_score(y_test, pred))\n",
    "print(\"\\nF1 score on test set: \", f1_score(y_test, pred, average='micro'))\n",
    "\n"
   ],
   "metadata": {
    "collapsed": false,
    "pycharm": {
     "name": "#%%\n"
    }
   }
  }
 ],
 "metadata": {
  "kernelspec": {
   "display_name": "Python 3",
   "language": "python",
   "name": "python3"
  },
  "language_info": {
   "codemirror_mode": {
    "name": "ipython",
    "version": 2
   },
   "file_extension": ".py",
   "mimetype": "text/x-python",
   "name": "python",
   "nbconvert_exporter": "python",
   "pygments_lexer": "ipython2",
   "version": "2.7.6"
  }
 },
 "nbformat": 4,
 "nbformat_minor": 0
}